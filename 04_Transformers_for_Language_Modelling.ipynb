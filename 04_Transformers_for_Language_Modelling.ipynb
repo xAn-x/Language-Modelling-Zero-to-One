{
  "nbformat": 4,
  "nbformat_minor": 0,
  "metadata": {
    "colab": {
      "provenance": [],
      "gpuType": "T4",
      "mount_file_id": "1fD_giYS3dSdA8PYpm28JOF1wNNChqTbU",
      "authorship_tag": "ABX9TyMCGAq+0CBH+wus0UP0fc7Z",
      "include_colab_link": true
    },
    "kernelspec": {
      "name": "python3",
      "display_name": "Python 3"
    },
    "language_info": {
      "name": "python"
    },
    "accelerator": "GPU"
  },
  "cells": [
    {
      "cell_type": "markdown",
      "metadata": {
        "id": "view-in-github",
        "colab_type": "text"
      },
      "source": [
        "<a href=\"https://colab.research.google.com/github/xAn-x/Language-Modelling-Zero-to-One/blob/master/04_Transformers_for_Language_Modelling.ipynb\" target=\"_parent\"><img src=\"https://colab.research.google.com/assets/colab-badge.svg\" alt=\"Open In Colab\"/></a>"
      ]
    },
    {
      "cell_type": "code",
      "source": [
        "import torch\n",
        "import torch.nn as nn\n",
        "import torch.nn.functional as F\n",
        "from torch.utils.data import Dataset,DataLoader\n",
        "\n",
        "import numpy as np\n",
        "import matplotlib.pyplot as plt"
      ],
      "metadata": {
        "id": "2ZLOe4Bm1fJD"
      },
      "execution_count": 3,
      "outputs": []
    },
    {
      "cell_type": "code",
      "source": [
        "!wget https://raw.githubusercontent.com/karpathy/char-rnn/master/data/tinyshakespeare/input.txt"
      ],
      "metadata": {
        "id": "FQxpJx9n2BKO",
        "colab": {
          "base_uri": "https://localhost:8080/"
        },
        "outputId": "60f08150-2a4d-48c1-c385-f121ebfb96dd"
      },
      "execution_count": 4,
      "outputs": [
        {
          "output_type": "stream",
          "name": "stdout",
          "text": [
            "--2024-08-27 02:43:01--  https://raw.githubusercontent.com/karpathy/char-rnn/master/data/tinyshakespeare/input.txt\n",
            "Resolving raw.githubusercontent.com (raw.githubusercontent.com)... 185.199.111.133, 185.199.109.133, 185.199.108.133, ...\n",
            "Connecting to raw.githubusercontent.com (raw.githubusercontent.com)|185.199.111.133|:443... connected.\n",
            "HTTP request sent, awaiting response... 200 OK\n",
            "Length: 1115394 (1.1M) [text/plain]\n",
            "Saving to: ‘input.txt’\n",
            "\n",
            "input.txt           100%[===================>]   1.06M  5.14MB/s    in 0.2s    \n",
            "\n",
            "2024-08-27 02:43:02 (5.14 MB/s) - ‘input.txt’ saved [1115394/1115394]\n",
            "\n"
          ]
        }
      ]
    },
    {
      "cell_type": "code",
      "source": [
        "with open('input.txt','r',encoding='utf-8') as f:\n",
        "  text=f.read()"
      ],
      "metadata": {
        "id": "Eb7HQoHVlnaq"
      },
      "execution_count": 5,
      "outputs": []
    },
    {
      "cell_type": "code",
      "source": [
        "print(text[:300])"
      ],
      "metadata": {
        "colab": {
          "base_uri": "https://localhost:8080/"
        },
        "id": "4RvgC_oMluvj",
        "outputId": "271938af-2f9b-4385-a1a9-15579ee37bf8"
      },
      "execution_count": 6,
      "outputs": [
        {
          "output_type": "stream",
          "name": "stdout",
          "text": [
            "First Citizen:\n",
            "Before we proceed any further, hear me speak.\n",
            "\n",
            "All:\n",
            "Speak, speak.\n",
            "\n",
            "First Citizen:\n",
            "You are all resolved rather to die than to famish?\n",
            "\n",
            "All:\n",
            "Resolved. resolved.\n",
            "\n",
            "First Citizen:\n",
            "First, you know Caius Marcius is chief enemy to the people.\n",
            "\n",
            "All:\n",
            "We know't, we know't.\n",
            "\n",
            "First Citizen:\n",
            "Let us\n"
          ]
        }
      ]
    },
    {
      "cell_type": "code",
      "source": [
        "vocab=sorted(list(set(text)))\n",
        "vocab_size=len(vocab)\n",
        "\n",
        "print(f\"vocab_size: {vocab_size}\")\n",
        "print(f\"vocab: {vocab}\")"
      ],
      "metadata": {
        "colab": {
          "base_uri": "https://localhost:8080/"
        },
        "id": "Tk0ZfcmFlvvL",
        "outputId": "953e5a1b-3103-4ec4-9c96-9c2d555494a8"
      },
      "execution_count": 7,
      "outputs": [
        {
          "output_type": "stream",
          "name": "stdout",
          "text": [
            "vocab_size: 65\n",
            "vocab: ['\\n', ' ', '!', '$', '&', \"'\", ',', '-', '.', '3', ':', ';', '?', 'A', 'B', 'C', 'D', 'E', 'F', 'G', 'H', 'I', 'J', 'K', 'L', 'M', 'N', 'O', 'P', 'Q', 'R', 'S', 'T', 'U', 'V', 'W', 'X', 'Y', 'Z', 'a', 'b', 'c', 'd', 'e', 'f', 'g', 'h', 'i', 'j', 'k', 'l', 'm', 'n', 'o', 'p', 'q', 'r', 's', 't', 'u', 'v', 'w', 'x', 'y', 'z']\n"
          ]
        }
      ]
    },
    {
      "cell_type": "code",
      "source": [
        "stoi={ch:i for i,ch in enumerate(vocab)}\n",
        "itos={i:ch for i,ch in enumerate(vocab)}\n",
        "\n",
        "def encode(s):\n",
        "  return [stoi[ch] for ch in s]\n",
        "\n",
        "def decode(l):\n",
        "  return ''.join([itos[i] for i in l])"
      ],
      "metadata": {
        "id": "W2hRV1UPmAB9"
      },
      "execution_count": 8,
      "outputs": []
    },
    {
      "cell_type": "code",
      "source": [
        "print(encode(\"hello, there\"))\n",
        "print(decode(encode(\"hello, there\")))"
      ],
      "metadata": {
        "colab": {
          "base_uri": "https://localhost:8080/"
        },
        "id": "04qdAWkFmaa6",
        "outputId": "bcd2fe8d-b311-4392-9e69-72d4c5c06b8c"
      },
      "execution_count": 9,
      "outputs": [
        {
          "output_type": "stream",
          "name": "stdout",
          "text": [
            "[46, 43, 50, 50, 53, 6, 1, 58, 46, 43, 56, 43]\n",
            "hello, there\n"
          ]
        }
      ]
    },
    {
      "cell_type": "code",
      "source": [
        "data=torch.tensor(encode(text),dtype=torch.long)\n",
        "print(data.shape,data.dtype)\n",
        "print(data[:100])"
      ],
      "metadata": {
        "colab": {
          "base_uri": "https://localhost:8080/"
        },
        "id": "aarjou2Om1Az",
        "outputId": "fbbccb04-fc05-4fad-8a1f-3b4c5e2856c2"
      },
      "execution_count": 10,
      "outputs": [
        {
          "output_type": "stream",
          "name": "stdout",
          "text": [
            "torch.Size([1115394]) torch.int64\n",
            "tensor([18, 47, 56, 57, 58,  1, 15, 47, 58, 47, 64, 43, 52, 10,  0, 14, 43, 44,\n",
            "        53, 56, 43,  1, 61, 43,  1, 54, 56, 53, 41, 43, 43, 42,  1, 39, 52, 63,\n",
            "         1, 44, 59, 56, 58, 46, 43, 56,  6,  1, 46, 43, 39, 56,  1, 51, 43,  1,\n",
            "        57, 54, 43, 39, 49,  8,  0,  0, 13, 50, 50, 10,  0, 31, 54, 43, 39, 49,\n",
            "         6,  1, 57, 54, 43, 39, 49,  8,  0,  0, 18, 47, 56, 57, 58,  1, 15, 47,\n",
            "        58, 47, 64, 43, 52, 10,  0, 37, 53, 59])\n"
          ]
        }
      ]
    },
    {
      "cell_type": "code",
      "source": [
        "train_size=int(0.9*len(data))\n",
        "train_data=data[:train_size]\n",
        "val_data=data[train_size:]\n",
        "\n",
        "print(f\"train_size: {train_size}\")\n",
        "print(f\"val_size: {len(val_data)}\")"
      ],
      "metadata": {
        "colab": {
          "base_uri": "https://localhost:8080/"
        },
        "id": "WX3xyiKMm4C8",
        "outputId": "9a0415b7-3075-4662-8057-fec65d1ccfcd"
      },
      "execution_count": 11,
      "outputs": [
        {
          "output_type": "stream",
          "name": "stdout",
          "text": [
            "train_size: 1003854\n",
            "val_size: 111540\n"
          ]
        }
      ]
    },
    {
      "cell_type": "code",
      "source": [
        "def get_batch(batch_size,block_size,split=\"train\"):\n",
        "  if split==\"train\":\n",
        "    data=train_data\n",
        "  else:\n",
        "    data=val_data\n",
        "\n",
        "  n=len(data)\n",
        "  ix=torch.randint(n-block_size-1,(batch_size,))\n",
        "  x=torch.stack([data[i:i+block_size] for i in ix])\n",
        "  y=torch.stack([data[i+1:i+block_size+1] for i in ix])\n",
        "\n",
        "  return x,y"
      ],
      "metadata": {
        "id": "3rCuZ_l-nBqd"
      },
      "execution_count": 12,
      "outputs": []
    },
    {
      "cell_type": "code",
      "source": [
        "batch_size,block_size=8,64\n",
        "x,y=get_batch(batch_size,block_size)\n",
        "\n",
        "print(f\"x.shape: {x.shape}\")\n",
        "print(f\"y.shape: {y.shape}\")\n",
        "print('\\n',\".*.\"*15,end='\\n\\n')\n",
        "print(f\"x:{x}\\n\")\n",
        "print(f\"y:{y}\\n\")"
      ],
      "metadata": {
        "colab": {
          "base_uri": "https://localhost:8080/"
        },
        "id": "gUJT9wMlnynR",
        "outputId": "68bcd2a5-d4a4-4e26-f106-9a001352bfa7"
      },
      "execution_count": 13,
      "outputs": [
        {
          "output_type": "stream",
          "name": "stdout",
          "text": [
            "x.shape: torch.Size([8, 64])\n",
            "y.shape: torch.Size([8, 64])\n",
            "\n",
            " .*..*..*..*..*..*..*..*..*..*..*..*..*..*..*.\n",
            "\n",
            "x:tensor([[56,  1, 57, 53, 59, 52, 42,  6,  5,  1, 40, 43, 41, 39, 59, 57, 43,  1,\n",
            "         51, 59, 57, 47, 41, 47, 39, 52, 57,  1, 57, 53, 59, 52, 42,  1, 44, 53,\n",
            "         56,  1, 57, 47, 50, 60, 43, 56,  8,  0,  0, 28, 17, 32, 17, 30, 10,  0,\n",
            "         28, 56, 43, 58, 58, 63,  1, 58, 53, 53],\n",
            "        [57, 58,  1, 58, 53,  1, 15, 53, 56, 47, 53, 50, 47,  1, 40, 39, 41, 49,\n",
            "         10,  1, 57, 43, 52, 42,  1, 59, 57,  1, 58, 53,  1, 30, 53, 51, 43,  0,\n",
            "         32, 46, 43,  1, 40, 43, 57, 58,  6,  1, 61, 47, 58, 46,  1, 61, 46, 53,\n",
            "         51,  1, 61, 43,  1, 51, 39, 63,  1, 39],\n",
            "        [53, 52,  6,  1, 57, 58, 56, 47, 49, 43,  1, 59, 54,  2,  0,  0, 16, 27,\n",
            "         30, 15, 13, 31, 10,  0, 25, 53, 54, 57, 39,  1, 51, 59, 57, 58,  1, 40,\n",
            "         43,  1, 63, 53, 59, 56,  1, 51, 47, 57, 58, 56, 43, 57, 57, 10,  1, 51,\n",
            "         39, 56, 56, 63,  6,  1, 45, 39, 56, 50],\n",
            "        [27, 24, 13, 26, 33, 31, 10,  0, 13, 63,  6,  1, 40, 63,  1, 39, 52, 42,\n",
            "          1, 40, 63, 11,  0, 14, 59, 58,  1, 61, 43,  1, 61, 47, 50, 50,  1, 42,\n",
            "         56, 47, 52, 49,  1, 58, 53, 45, 43, 58, 46, 43, 56, 11,  1, 39, 52, 42,\n",
            "          1, 63, 53, 59,  1, 57, 46, 39, 50, 50],\n",
            "        [44,  1, 58, 46, 53, 59,  1, 40, 43,  1, 39,  1, 49, 47, 52, 45,  6,  1,\n",
            "         61, 46, 43, 56, 43,  1, 47, 57,  1, 58, 46, 63,  1, 41, 56, 53, 61, 52,\n",
            "         12,  0,  0, 23, 21, 26, 19,  1, 20, 17, 26, 30, 37,  1, 34, 21, 10,  0,\n",
            "         25, 63,  1, 41, 56, 53, 61, 52,  1, 47],\n",
            "        [53, 59,  6,  1, 39, 41, 41, 53, 56, 42, 47, 52, 45,  1, 58, 53,  1, 58,\n",
            "         46, 63,  1, 53, 39, 58, 46,  1, 39, 52, 42,  1, 40, 39, 52, 42,  6,  0,\n",
            "         14, 56, 53, 59, 45, 46, 58,  1, 46, 47, 58, 46, 43, 56,  1, 20, 43, 52,\n",
            "         56, 63,  1, 20, 43, 56, 43, 44, 53, 56],\n",
            "        [ 1, 61, 39, 57, 46,  1, 39, 61, 39, 63,  1, 63, 53, 59, 56,  1, 57, 47,\n",
            "         52,  8,  0,  0, 26, 27, 30, 32, 20, 33, 25, 14, 17, 30, 24, 13, 26, 16,\n",
            "         10,  0, 25, 63,  1, 50, 53, 56, 42,  6,  1, 42, 47, 57, 54, 39, 58, 41,\n",
            "         46, 11,  1, 56, 43, 39, 42,  1, 53,  5],\n",
            "        [47, 45, 56, 43, 43, 12,  0, 18, 53, 56,  1, 57, 46, 39, 51, 43,  2,  1,\n",
            "         50, 43, 39, 60, 43,  1, 20, 43, 52, 56, 63,  6,  1, 39, 52, 42,  1, 41,\n",
            "         39, 50, 50,  1, 17, 42, 61, 39, 56, 42,  1, 49, 47, 52, 45,  8,  0,  0,\n",
            "         27, 36, 18, 27, 30, 16, 10,  0, 15, 39]])\n",
            "\n",
            "y:tensor([[ 1, 57, 53, 59, 52, 42,  6,  5,  1, 40, 43, 41, 39, 59, 57, 43,  1, 51,\n",
            "         59, 57, 47, 41, 47, 39, 52, 57,  1, 57, 53, 59, 52, 42,  1, 44, 53, 56,\n",
            "          1, 57, 47, 50, 60, 43, 56,  8,  0,  0, 28, 17, 32, 17, 30, 10,  0, 28,\n",
            "         56, 43, 58, 58, 63,  1, 58, 53, 53,  2],\n",
            "        [58,  1, 58, 53,  1, 15, 53, 56, 47, 53, 50, 47,  1, 40, 39, 41, 49, 10,\n",
            "          1, 57, 43, 52, 42,  1, 59, 57,  1, 58, 53,  1, 30, 53, 51, 43,  0, 32,\n",
            "         46, 43,  1, 40, 43, 57, 58,  6,  1, 61, 47, 58, 46,  1, 61, 46, 53, 51,\n",
            "          1, 61, 43,  1, 51, 39, 63,  1, 39, 56],\n",
            "        [52,  6,  1, 57, 58, 56, 47, 49, 43,  1, 59, 54,  2,  0,  0, 16, 27, 30,\n",
            "         15, 13, 31, 10,  0, 25, 53, 54, 57, 39,  1, 51, 59, 57, 58,  1, 40, 43,\n",
            "          1, 63, 53, 59, 56,  1, 51, 47, 57, 58, 56, 43, 57, 57, 10,  1, 51, 39,\n",
            "         56, 56, 63,  6,  1, 45, 39, 56, 50, 47],\n",
            "        [24, 13, 26, 33, 31, 10,  0, 13, 63,  6,  1, 40, 63,  1, 39, 52, 42,  1,\n",
            "         40, 63, 11,  0, 14, 59, 58,  1, 61, 43,  1, 61, 47, 50, 50,  1, 42, 56,\n",
            "         47, 52, 49,  1, 58, 53, 45, 43, 58, 46, 43, 56, 11,  1, 39, 52, 42,  1,\n",
            "         63, 53, 59,  1, 57, 46, 39, 50, 50,  1],\n",
            "        [ 1, 58, 46, 53, 59,  1, 40, 43,  1, 39,  1, 49, 47, 52, 45,  6,  1, 61,\n",
            "         46, 43, 56, 43,  1, 47, 57,  1, 58, 46, 63,  1, 41, 56, 53, 61, 52, 12,\n",
            "          0,  0, 23, 21, 26, 19,  1, 20, 17, 26, 30, 37,  1, 34, 21, 10,  0, 25,\n",
            "         63,  1, 41, 56, 53, 61, 52,  1, 47, 57],\n",
            "        [59,  6,  1, 39, 41, 41, 53, 56, 42, 47, 52, 45,  1, 58, 53,  1, 58, 46,\n",
            "         63,  1, 53, 39, 58, 46,  1, 39, 52, 42,  1, 40, 39, 52, 42,  6,  0, 14,\n",
            "         56, 53, 59, 45, 46, 58,  1, 46, 47, 58, 46, 43, 56,  1, 20, 43, 52, 56,\n",
            "         63,  1, 20, 43, 56, 43, 44, 53, 56, 42],\n",
            "        [61, 39, 57, 46,  1, 39, 61, 39, 63,  1, 63, 53, 59, 56,  1, 57, 47, 52,\n",
            "          8,  0,  0, 26, 27, 30, 32, 20, 33, 25, 14, 17, 30, 24, 13, 26, 16, 10,\n",
            "          0, 25, 63,  1, 50, 53, 56, 42,  6,  1, 42, 47, 57, 54, 39, 58, 41, 46,\n",
            "         11,  1, 56, 43, 39, 42,  1, 53,  5, 43],\n",
            "        [45, 56, 43, 43, 12,  0, 18, 53, 56,  1, 57, 46, 39, 51, 43,  2,  1, 50,\n",
            "         43, 39, 60, 43,  1, 20, 43, 52, 56, 63,  6,  1, 39, 52, 42,  1, 41, 39,\n",
            "         50, 50,  1, 17, 42, 61, 39, 56, 42,  1, 49, 47, 52, 45,  8,  0,  0, 27,\n",
            "         36, 18, 27, 30, 16, 10,  0, 15, 39, 50]])\n",
            "\n"
          ]
        }
      ]
    },
    {
      "cell_type": "code",
      "source": [
        "decode(x[1].tolist())"
      ],
      "metadata": {
        "colab": {
          "base_uri": "https://localhost:8080/",
          "height": 36
        },
        "id": "SiSSVu9fhItx",
        "outputId": "a07bb198-254e-463b-c3f3-3064d36daa1a"
      },
      "execution_count": 14,
      "outputs": [
        {
          "output_type": "execute_result",
          "data": {
            "text/plain": [
              "'st to Corioli back: send us to Rome\\nThe best, with whom we may a'"
            ],
            "application/vnd.google.colaboratory.intrinsic+json": {
              "type": "string"
            }
          },
          "metadata": {},
          "execution_count": 14
        }
      ]
    },
    {
      "cell_type": "markdown",
      "source": [
        "## `Transformer-Model-Architecture:`"
      ],
      "metadata": {
        "id": "EvdhCfaozWpT"
      }
    },
    {
      "cell_type": "markdown",
      "source": [
        "![Transformer-Model-Architecture.png](data:image/png;base64,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)"
      ],
      "metadata": {
        "id": "UU7A2El4yzQN"
      }
    },
    {
      "cell_type": "code",
      "source": [
        "import torch\n",
        "import torch.nn as nn\n",
        "import torch.nn.functional as F\n",
        "\n",
        "class ContextualEmbeddings(nn.Module):\n",
        "  def __init__(self, vocab_size,context_len,embedding_dim) -> None:\n",
        "    super().__init__()\n",
        "    self.word_embeddings=nn.Embedding(vocab_size,embedding_dim)\n",
        "    self.positonal_embeddings=nn.Embedding(context_len,embedding_dim)\n",
        "    self.register_buffer(\"positions\",torch.arange(context_len))\n",
        "\n",
        "  def forward(self,x):\n",
        "    # x.shape: (B,T)\n",
        "    return self.word_embeddings(x)+self.positonal_embeddings(self.positions) # out.shape:(B,T,C)\n",
        "\n",
        "class AttentionHead(nn.Module):\n",
        "  def __init__(self,embedding_dim,head_size):\n",
        "    super().__init__()\n",
        "    self.head_size=head_size\n",
        "    self.query=nn.Linear(embedding_dim,head_size)\n",
        "    self.key=nn.Linear(embedding_dim,head_size)\n",
        "    self.value=nn.Linear(embedding_dim,head_size)\n",
        "\n",
        "  @staticmethod\n",
        "  def attention(q,k,v,head_size,mask):\n",
        "    # q:(B,T,H) k:(B,H,T)\n",
        "    weights= q @ k.transpose(-2,-1) / head_size**0.5\n",
        "    if mask is not None:\n",
        "      weights=weights.masked_fill(mask==0,float('-inf'))\n",
        "    weights=weights.softmax(dim=-1)\n",
        "    attention_scores=weights @ v\n",
        "    return attention_scores\n",
        "\n",
        "  def forward(self,x,mask=None):\n",
        "    k=self.key(x)\n",
        "    v=self.value(x)\n",
        "    q=self.query(x)\n",
        "\n",
        "    attention_scores=AttentionHead.attention(q,k,v,self.head_size,mask)\n",
        "    return attention_scores\n",
        "\n",
        "\n",
        "class MultiHeadAttention(nn.Module):\n",
        "  def __init__(self,embedding_dim,n_heads):\n",
        "    super().__init__()\n",
        "    assert embedding_dim%n_heads==0,f\"embedding_dim({embedding_dim}) can't be divided into n_heads({n_heads})\"\n",
        "    head_size=embedding_dim//n_heads\n",
        "    self.attention_heads=nn.ModuleList([AttentionHead(embedding_dim,head_size) for head in range(n_heads)])\n",
        "\n",
        "  def forward(self,x,mask=None):\n",
        "    out=[]\n",
        "    for attn_head in self.attention_heads:\n",
        "      out.append(attn_head(x,mask))\n",
        "    out=torch.cat(out,dim=-1)\n",
        "    return out\n",
        "\n",
        "\n",
        "class ProjectionLayer(nn.Module):\n",
        "  def __init__(self,in_features,projection_fact=4):\n",
        "    super().__init__()\n",
        "    self.fc=nn.Sequential(\n",
        "      nn.Linear(in_features,in_features*projection_fact),\n",
        "      nn.Linear(in_features*projection_fact,in_features),\n",
        "      nn.Dropout(0.3),\n",
        "    )\n",
        "\n",
        "  def forward(self,x):\n",
        "    return self.fc(x)\n",
        "\n",
        "\n",
        "class DecoderBlock(nn.Module):\n",
        "  def __init__(self,embedding_dim,n_heads,projection_fact=4):\n",
        "    super().__init__()\n",
        "    head_size=embedding_dim//n_heads\n",
        "    self.ln1=nn.LayerNorm(embedding_dim)\n",
        "    self.masked_attention=MultiHeadAttention(embedding_dim,n_heads)\n",
        "    self.fc=ProjectionLayer(embedding_dim,projection_fact)\n",
        "    self.ln2=nn.LayerNorm(embedding_dim)\n",
        "\n",
        "  def forward(self,x,mask):\n",
        "    x=x+self.ln1(x)\n",
        "    x=x+self.masked_attention(self.ln2(x),mask)\n",
        "    x=self.fc(x)\n",
        "    return x\n",
        "\n",
        "class Decoder(nn.Module):\n",
        "  def __init__(self,embedding_dim,n_blocks,n_heads,projection_fact=4):\n",
        "    super().__init__()\n",
        "    self.decoder=nn.ModuleList([DecoderBlock(embedding_dim,n_heads,projection_fact) for block in range(n_blocks)])\n",
        "\n",
        "  def forward(self,x,mask):\n",
        "    for block in self.decoder:\n",
        "      x=block(x,mask)\n",
        "    return x"
      ],
      "metadata": {
        "id": "VUS9Xf30KAId"
      },
      "execution_count": 15,
      "outputs": []
    },
    {
      "cell_type": "code",
      "source": [
        "class Model(nn.Module):\n",
        "  def __init__(self,vocab_size,block_size,n_embed,n_heads,n_layers,projection_factor=4):\n",
        "    super().__init__()\n",
        "    self.vocab_size=vocab_size\n",
        "    self.block_size=block_size\n",
        "    self.n_heads=n_heads\n",
        "    self.n_layers=n_layers\n",
        "\n",
        "    self.embeddings=ContextualEmbeddings(vocab_size,block_size,n_embed)\n",
        "    self.decoder=Decoder(n_embed,n_layers,n_heads,projection_factor)\n",
        "    self.norm=nn.LayerNorm(n_embed)\n",
        "    self.fc=nn.Linear(n_embed,vocab_size)\n",
        "    self.register_buffer(\"mask\",torch.tril(torch.ones(block_size,block_size)))\n",
        "\n",
        "\n",
        "  def forward(self, x, targets=None):\n",
        "    x = self.embeddings(x)\n",
        "    x = self.decoder(x,self.mask)\n",
        "    x = self.fc(self.norm(x))\n",
        "    loss = None\n",
        "    if targets is not None:\n",
        "        x = x.view(-1, x.shape[-1])\n",
        "        targets = targets.view(-1)\n",
        "        loss = F.cross_entropy(x,targets)\n",
        "    return x, loss"
      ],
      "metadata": {
        "id": "GmHKZJb3ML67"
      },
      "execution_count": 42,
      "outputs": []
    },
    {
      "cell_type": "code",
      "source": [
        "batch_size=64\n",
        "block_size=256\n",
        "n_embed=128\n",
        "vocab_size=65\n",
        "n_heads=8\n",
        "n_layers=5\n",
        "device=torch.device('cuda' if torch.cuda.is_available() else 'cpu')\n",
        "\n",
        "model=Model(vocab_size,block_size,n_embed,n_heads,n_layers)\n",
        "\n",
        "print(device)\n",
        "model.to(device)"
      ],
      "metadata": {
        "colab": {
          "base_uri": "https://localhost:8080/"
        },
        "id": "p_KxoxjsL6OG",
        "outputId": "da73fb27-68c4-42e7-dff5-2a27111c5a8c"
      },
      "execution_count": 61,
      "outputs": [
        {
          "output_type": "stream",
          "name": "stdout",
          "text": [
            "cuda\n"
          ]
        },
        {
          "output_type": "execute_result",
          "data": {
            "text/plain": [
              "Model(\n",
              "  (embeddings): ContextualEmbeddings(\n",
              "    (word_embeddings): Embedding(65, 128)\n",
              "    (positonal_embeddings): Embedding(256, 128)\n",
              "  )\n",
              "  (decoder): Decoder(\n",
              "    (decoder): ModuleList(\n",
              "      (0-4): 5 x DecoderBlock(\n",
              "        (ln1): LayerNorm((128,), eps=1e-05, elementwise_affine=True)\n",
              "        (masked_attention): MultiHeadAttention(\n",
              "          (attention_heads): ModuleList(\n",
              "            (0-7): 8 x AttentionHead(\n",
              "              (query): Linear(in_features=128, out_features=16, bias=True)\n",
              "              (key): Linear(in_features=128, out_features=16, bias=True)\n",
              "              (value): Linear(in_features=128, out_features=16, bias=True)\n",
              "            )\n",
              "          )\n",
              "        )\n",
              "        (fc): ProjectionLayer(\n",
              "          (fc): Sequential(\n",
              "            (0): Linear(in_features=128, out_features=512, bias=True)\n",
              "            (1): Linear(in_features=512, out_features=128, bias=True)\n",
              "            (2): Dropout(p=0.3, inplace=False)\n",
              "          )\n",
              "        )\n",
              "        (ln2): LayerNorm((128,), eps=1e-05, elementwise_affine=True)\n",
              "      )\n",
              "    )\n",
              "  )\n",
              "  (norm): LayerNorm((128,), eps=1e-05, elementwise_affine=True)\n",
              "  (fc): Linear(in_features=128, out_features=65, bias=True)\n",
              ")"
            ]
          },
          "metadata": {},
          "execution_count": 61
        }
      ]
    },
    {
      "cell_type": "code",
      "source": [
        "sum(p.numel() for p in model.parameters())"
      ],
      "metadata": {
        "colab": {
          "base_uri": "https://localhost:8080/"
        },
        "id": "q4KOZkNtFxKC",
        "outputId": "385f82b3-cb86-42fc-e257-5e47dec12218"
      },
      "execution_count": 62,
      "outputs": [
        {
          "output_type": "execute_result",
          "data": {
            "text/plain": [
              "958529"
            ]
          },
          "metadata": {},
          "execution_count": 62
        }
      ]
    },
    {
      "cell_type": "code",
      "source": [
        "# Dev-Test-Run\n",
        "X,y=get_batch(batch_size,block_size)\n",
        "X,y=X.to(device),y.to(device)\n",
        "\n",
        "\n",
        "logits,loss=model(X,y)\n",
        "logits.shape,loss"
      ],
      "metadata": {
        "colab": {
          "base_uri": "https://localhost:8080/"
        },
        "id": "NVrCAytXoqUC",
        "outputId": "73c60bf7-630a-47c0-f6e1-b793686a5c22"
      },
      "execution_count": 63,
      "outputs": [
        {
          "output_type": "execute_result",
          "data": {
            "text/plain": [
              "(torch.Size([16384, 65]),\n",
              " tensor(4.3694, device='cuda:0', grad_fn=<NllLossBackward0>))"
            ]
          },
          "metadata": {},
          "execution_count": 63
        }
      ]
    },
    {
      "cell_type": "code",
      "source": [
        "# Define the optimizer and the learning rate scheduler\n",
        "from torch.optim.lr_scheduler import CosineAnnealingLR\n",
        "optimizer = torch.optim.AdamW(model.parameters(),1e-4)\n",
        "scheduler = CosineAnnealingLR(optimizer, T_max=5000, eta_min=0)\n",
        "\n",
        "epochs=5000\n",
        "eval_interval=5\n",
        "log_every_kth_epoch=500\n",
        "save_every_kth_epoch=2500"
      ],
      "metadata": {
        "id": "Um_YzHQTp2XK"
      },
      "execution_count": 68,
      "outputs": []
    },
    {
      "cell_type": "code",
      "source": [
        "@torch.no_grad()\n",
        "def evaluate(model,eval_interval):\n",
        "  model.eval()\n",
        "  for split in [\"train\",\"val\"]:\n",
        "    losses=[]\n",
        "    for epoch in range(eval_interval):\n",
        "      x,y=get_batch(batch_size,block_size,split)\n",
        "      x,y=x.to(device),y.to(device)\n",
        "\n",
        "      logits,loss=model(x,y)\n",
        "      losses.append(loss.item())\n",
        "    losses=np.array(losses)\n",
        "    print(f\"{split}_loss:{losses.mean():.2f}\")\n",
        "\n",
        "\n",
        "\n",
        "def train():\n",
        "  history={\"train_loss\":[],\"val_loss\":[]}\n",
        "  for epoch in range(epochs):\n",
        "    # zero-grad\n",
        "    optimizer.zero_grad()\n",
        "\n",
        "    model.train()\n",
        "    X,y=get_batch(batch_size,block_size)\n",
        "    X,y=X.to(device),y.to(device)\n",
        "    logits,loss=model(X,y)\n",
        "\n",
        "    # backward-pass\n",
        "    loss.backward()\n",
        "    optimizer.step()\n",
        "\n",
        "    # Update the learning rate\n",
        "    scheduler.step()\n",
        "\n",
        "    model.eval()\n",
        "    with torch.no_grad():\n",
        "      X,y=get_batch(batch_size,block_size,\"valid\")\n",
        "      X,y=X.to(device),y.to(device)\n",
        "      logits,val_loss=model(X,y)\n",
        "\n",
        "    history[\"train_loss\"].append(loss.item())\n",
        "    history[\"val_loss\"].append(val_loss.item())\n",
        "\n",
        "    if (epoch+1)% log_every_kth_epoch ==0:\n",
        "      print(f\"EPOCH: {epoch+1}/{epochs}:\\n\")\n",
        "      evaluate(model,eval_interval)\n",
        "      print()\n",
        "\n",
        "    if (epoch+1) % save_every_kth_epoch==0:\n",
        "      print(\"Saving Model....\")\n",
        "      torch.save(model.state_dict(),\"/content/drive/MyDrive/Colab Notebooks/Saved Models/decoder-model.pth\")\n",
        "      print(\"Model Saved....\\n\")\n",
        "\n",
        "  return history"
      ],
      "metadata": {
        "id": "7ivGcmfPz57C"
      },
      "execution_count": 69,
      "outputs": []
    },
    {
      "cell_type": "code",
      "source": [
        "history=train()"
      ],
      "metadata": {
        "colab": {
          "base_uri": "https://localhost:8080/"
        },
        "id": "wiXtCMf_2ufX",
        "outputId": "b7b36495-42df-4b8f-d99c-bf9556abe5da"
      },
      "execution_count": 70,
      "outputs": [
        {
          "output_type": "stream",
          "name": "stdout",
          "text": [
            "EPOCH: 500/5000:\n",
            "\n",
            "train_loss:2.61\n",
            "val_loss:2.60\n",
            "\n",
            "EPOCH: 1000/5000:\n",
            "\n",
            "train_loss:2.54\n",
            "val_loss:2.54\n",
            "\n",
            "EPOCH: 1500/5000:\n",
            "\n",
            "train_loss:2.53\n",
            "val_loss:2.51\n",
            "\n",
            "EPOCH: 2000/5000:\n",
            "\n",
            "train_loss:2.50\n",
            "val_loss:2.49\n",
            "\n",
            "EPOCH: 2500/5000:\n",
            "\n",
            "train_loss:2.48\n",
            "val_loss:2.49\n",
            "\n",
            "Saving Model....\n",
            "Model Saved....\n",
            "\n",
            "EPOCH: 3000/5000:\n",
            "\n",
            "train_loss:2.47\n",
            "val_loss:2.47\n",
            "\n",
            "EPOCH: 3500/5000:\n",
            "\n",
            "train_loss:2.47\n",
            "val_loss:2.47\n",
            "\n",
            "EPOCH: 4000/5000:\n",
            "\n",
            "train_loss:2.46\n",
            "val_loss:2.46\n",
            "\n",
            "EPOCH: 4500/5000:\n",
            "\n",
            "train_loss:2.46\n",
            "val_loss:2.47\n",
            "\n",
            "EPOCH: 5000/5000:\n",
            "\n",
            "train_loss:2.46\n",
            "val_loss:2.45\n",
            "\n",
            "Saving Model....\n",
            "Model Saved....\n",
            "\n"
          ]
        }
      ]
    },
    {
      "cell_type": "code",
      "source": [
        "def plot_loss(history):\n",
        "    train_loss=torch.tensor(history[\"train_loss\"]).view(-1,200).mean(-1)\n",
        "    val_loss=torch.tensor(history[\"val_loss\"]).view(-1,200).mean(-1)\n",
        "\n",
        "    plt.plot(train_loss, label='Training Loss', marker='o')\n",
        "    plt.plot(val_loss, label='Validation Loss', marker='o')\n",
        "    plt.title('Training and Validation Loss')\n",
        "    plt.xlabel('Epoch')\n",
        "    plt.ylabel('Loss')\n",
        "    plt.legend()\n",
        "    plt.grid(True)\n",
        "    plt.show()\n",
        "\n",
        "plot_loss(history)"
      ],
      "metadata": {
        "id": "fyWFIfFPkkig",
        "colab": {
          "base_uri": "https://localhost:8080/",
          "height": 472
        },
        "outputId": "f5501f10-18aa-4ee3-b33f-ff4ff6e3023a"
      },
      "execution_count": 71,
      "outputs": [
        {
          "output_type": "display_data",
          "data": {
            "text/plain": [
              "<Figure size 640x480 with 1 Axes>"
            ],
            "image/png": "[encoded data removed]"
          },
          "metadata": {}
        }
      ]
    },
    {
      "cell_type": "code",
      "source": [
        "@torch.no_grad()\n",
        "def generate(n_words=300):\n",
        "    model.eval()\n",
        "    idx = 0\n",
        "    text = train_data[idx:idx+block_size].unsqueeze(0).to(device)\n",
        "    lst = []\n",
        "\n",
        "    for _ in range(n_words):\n",
        "        logits, _ = model(text)\n",
        "        probs = F.softmax(logits[:, -1, :], dim=-1)  # Take the last token's logits\n",
        "        new_ix = torch.multinomial(probs, num_samples=1)\n",
        "\n",
        "        lst.append(new_ix.item())\n",
        "        # Update the context, expanding up to block_size and then rolling\n",
        "        if text.size(1) < block_size:\n",
        "            text = torch.cat([text, new_ix], dim=1)\n",
        "        else:\n",
        "            text = torch.cat([text[:, 1:], new_ix], dim=1)\n",
        "\n",
        "    return \"\".join(decode(lst))\n"
      ],
      "metadata": {
        "id": "3mOea-jO2vfe"
      },
      "execution_count": 72,
      "outputs": []
    },
    {
      "cell_type": "code",
      "source": [
        "generated_text=generate(1000)\n",
        "print(generated_text)"
      ],
      "metadata": {
        "id": "tKOUlpsH9_K3",
        "colab": {
          "base_uri": "https://localhost:8080/"
        },
        "outputId": "713b091e-742c-49ae-c77b-bd3942fd1901"
      },
      "execution_count": 73,
      "outputs": [
        {
          "output_type": "stream",
          "name": "stdout",
          "text": [
            "Wherde as, s mathisote win me mofo whoule'chapade he? at gha, cousouisthent, y, anghin it f tllandy w ithant athaneng ba tine thadenerooull poubromyo forothould meshe g hanutherster band,\n",
            "Thoke! moume fo wis Ne nkingh s yg o Ithise!\n",
            "\n",
            "PUCENI ithaverd cheind bllone thas thed, pan:\n",
            "SNI thapre I myof OIfe.\n",
            "\n",
            "I busonto hanouespand, ageen it lloncat NINDIS mpad, he, t\n",
            "SI the tod soayonthanuthasu gu oveayonad more t ve bandealivird metinghee\n",
            "\n",
            "Wh achee bar t istheshar feioun sthe ipe, t:\n",
            "Aithut an ort ichit m Rowe ns'oud masu tooot, teave theefoupe;\n",
            "Onmonom he thethor fk.\n",
            "\n",
            "\n",
            "miorn?\n",
            "HAKImat wsu prthas ak IOLUCUS:\n",
            "I crd teno challlrdro watouthemeayoomeitaly g gal.\n",
            "Islindt s. leatharg ghillevet thenye shille soo amy t themithas.\n",
            "\n",
            "\n",
            "\n",
            "MUS, wherouende foungry f is wang blis! t pe.\n",
            "Weass MININIUCEPO:\n",
            "A hanoumoke I yowathipind itthee tomaprobou y, budanour Pee a bealis,\n",
            "Tir ge inllithan.\n",
            "\n",
            "\n",
            "ID the t eie tinoout le no I yoventhanoser, wisererote sithasthe; anth o whe thelist are delallinkeng tese fou, bin,\n"
          ]
        }
      ]
    },
    {
      "cell_type": "code",
      "source": [
        "# torch.save(model.state_dict(),\"/content/drive/MyDrive/Colab Notebooks/Saved Models/decoder-model.pth\")"
      ],
      "metadata": {
        "id": "1PDM7TGfJhhC"
      },
      "execution_count": 74,
      "outputs": []
    },
    {
      "cell_type": "code",
      "source": [],
      "metadata": {
        "id": "HtxIvI-s1Ix8"
      },
      "execution_count": null,
      "outputs": []
    }
  ]
}