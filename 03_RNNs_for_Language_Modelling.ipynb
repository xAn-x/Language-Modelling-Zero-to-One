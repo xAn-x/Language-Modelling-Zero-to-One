{
  "nbformat": 4,
  "nbformat_minor": 0,
  "metadata": {
    "colab": {
      "provenance": [],
      "gpuType": "T4",
      "mount_file_id": "1gtzWVikE2uPv95gVtCQQ6I-Sqjd7TVXc",
      "authorship_tag": "ABX9TyOpfJGPkPFexSAvsMrp7+ut",
      "include_colab_link": true
    },
    "kernelspec": {
      "name": "python3",
      "display_name": "Python 3"
    },
    "language_info": {
      "name": "python"
    },
    "accelerator": "GPU"
  },
  "cells": [
    {
      "cell_type": "markdown",
      "metadata": {
        "id": "view-in-github",
        "colab_type": "text"
      },
      "source": [
        "<a href=\"https://colab.research.google.com/github/xAn-x/Language-Modelling-Zero-to-One/blob/master/03_RNNs_for_Language_Modelling.ipynb\" target=\"_parent\"><img src=\"https://colab.research.google.com/assets/colab-badge.svg\" alt=\"Open In Colab\"/></a>"
      ]
    },
    {
      "cell_type": "code",
      "execution_count": 1,
      "metadata": {
        "id": "Sn0rL604WvO2"
      },
      "outputs": [],
      "source": [
        "import torch\n",
        "import torch.nn as nn\n",
        "import torch.nn.functional as F\n",
        "from torch.utils.data import Dataset,DataLoader,Subset\n",
        "\n",
        "import numpy as np\n",
        "import matplotlib.pyplot as plt"
      ]
    },
    {
      "cell_type": "code",
      "source": [
        "!wget https://raw.githubusercontent.com/karpathy/char-rnn/master/data/tinyshakespeare/input.txt"
      ],
      "metadata": {
        "colab": {
          "base_uri": "https://localhost:8080/"
        },
        "id": "kU-p7x2uXLWU",
        "outputId": "a55d5683-dac0-4cad-a393-356ebc7ec92c"
      },
      "execution_count": 2,
      "outputs": [
        {
          "output_type": "stream",
          "name": "stdout",
          "text": [
            "--2024-07-12 14:11:06--  https://raw.githubusercontent.com/karpathy/char-rnn/master/data/tinyshakespeare/input.txt\n",
            "Resolving raw.githubusercontent.com (raw.githubusercontent.com)... 185.199.108.133, 185.199.109.133, 185.199.110.133, ...\n",
            "Connecting to raw.githubusercontent.com (raw.githubusercontent.com)|185.199.108.133|:443... connected.\n",
            "HTTP request sent, awaiting response... 200 OK\n",
            "Length: 1115394 (1.1M) [text/plain]\n",
            "Saving to: ‘input.txt’\n",
            "\n",
            "input.txt           100%[===================>]   1.06M  --.-KB/s    in 0.01s   \n",
            "\n",
            "2024-07-12 14:11:07 (110 MB/s) - ‘input.txt’ saved [1115394/1115394]\n",
            "\n"
          ]
        }
      ]
    },
    {
      "cell_type": "code",
      "source": [
        "with open('input.txt','r',encoding='utf-8') as f:\n",
        "  text=f.read()"
      ],
      "metadata": {
        "id": "Fhgowgp7XcFj"
      },
      "execution_count": 3,
      "outputs": []
    },
    {
      "cell_type": "code",
      "source": [
        "print(text[:500])"
      ],
      "metadata": {
        "id": "NVdbTclkhrMU",
        "outputId": "92981afe-86d4-409b-c3f4-108618ebeefc",
        "colab": {
          "base_uri": "https://localhost:8080/"
        }
      },
      "execution_count": 214,
      "outputs": [
        {
          "output_type": "stream",
          "name": "stdout",
          "text": [
            "First Citizen:\n",
            "Before we proceed any further, hear me speak.\n",
            "\n",
            "All:\n",
            "Speak, speak.\n",
            "\n",
            "First Citizen:\n",
            "You are all resolved rather to die than to famish?\n",
            "\n",
            "All:\n",
            "Resolved. resolved.\n",
            "\n",
            "First Citizen:\n",
            "First, you know Caius Marcius is chief enemy to the people.\n",
            "\n",
            "All:\n",
            "We know't, we know't.\n",
            "\n",
            "First Citizen:\n",
            "Let us kill him, and we'll have corn at our own price.\n",
            "Is't a verdict?\n",
            "\n",
            "All:\n",
            "No more talking on't; let it be done: away, away!\n",
            "\n",
            "Second Citizen:\n",
            "One word, good citizens.\n",
            "\n",
            "First Citizen:\n",
            "We are accounted poor\n"
          ]
        }
      ]
    },
    {
      "cell_type": "code",
      "source": [
        "class TinyShakespeare(Dataset):\n",
        "  def __init__(self,text_corpus,block_size):\n",
        "    super().__init__()\n",
        "\n",
        "    self.text_corpus=text\n",
        "    self.block_size=block_size\n",
        "\n",
        "    self.vocab=sorted(list(set(text)))\n",
        "    self.vocab_size=len(self.vocab)\n",
        "\n",
        "    self.stoi={ch:i for i,ch in enumerate(self.vocab)}\n",
        "    self.itos={i:ch for i,ch in enumerate(self.vocab)}\n",
        "\n",
        "    encoded_text=torch.tensor(self.encode(text))\n",
        "\n",
        "    X,Y=[],[]\n",
        "    n=len(text_corpus)\n",
        "    for i in range(n-block_size):\n",
        "      x=encoded_text[i:i+block_size]\n",
        "      y=encoded_text[i+block_size]\n",
        "\n",
        "      X.append(x)\n",
        "      Y.append(y)\n",
        "\n",
        "    self.inp=torch.stack(X)\n",
        "    self.out=torch.tensor(Y)\n",
        "\n",
        "\n",
        "\n",
        "  def encode(self,sentences:str | list[str]) -> list[int]:\n",
        "    if isinstance(sentences,str):\n",
        "      sentences=[sentences]\n",
        "\n",
        "    encoded_lst=[]\n",
        "    for sentence in sentences:\n",
        "      encoded_lst.append([self.stoi[ch] for ch in sentence])\n",
        "\n",
        "    return encoded_lst[0] if len(encoded_lst)==1 else encoded_lst\n",
        "\n",
        "\n",
        "\n",
        "  def decode(self,encoded_lst: list[list[int]]) -> list[str]:\n",
        "    decoded_lst=[]\n",
        "    for lst in encoded_lst:\n",
        "      decoded_str=\"\".join([self.itos[num] for num in lst])\n",
        "      decoded_lst.append(decoded_str)\n",
        "\n",
        "    return decoded_lst[0] if len(decoded_lst)==1 else decoded_lst\n",
        "\n",
        "\n",
        "  def __getitem__(self,idx):\n",
        "    return self.inp[idx],self.out[idx]\n",
        "\n",
        "\n",
        "  def __len__(self):\n",
        "    return self.inp.shape[0]\n"
      ],
      "metadata": {
        "id": "MIMCpB6gXkNJ"
      },
      "execution_count": 169,
      "outputs": []
    },
    {
      "cell_type": "code",
      "source": [
        "block_size=8\n",
        "batch_size=64"
      ],
      "metadata": {
        "id": "T01UBulydZWp"
      },
      "execution_count": 170,
      "outputs": []
    },
    {
      "cell_type": "code",
      "source": [
        "ds=TinyShakespeare(text,block_size)"
      ],
      "metadata": {
        "id": "UXygVqnKbX9i"
      },
      "execution_count": 171,
      "outputs": []
    },
    {
      "cell_type": "code",
      "source": [
        "ds[:5]"
      ],
      "metadata": {
        "colab": {
          "base_uri": "https://localhost:8080/"
        },
        "id": "X1DvvKoHddIN",
        "outputId": "be43a638-76f0-47ca-81dc-8c4ba35056a6"
      },
      "execution_count": 172,
      "outputs": [
        {
          "output_type": "execute_result",
          "data": {
            "text/plain": [
              "(tensor([[18, 47, 56, 57, 58,  1, 15, 47],\n",
              "         [47, 56, 57, 58,  1, 15, 47, 58],\n",
              "         [56, 57, 58,  1, 15, 47, 58, 47],\n",
              "         [57, 58,  1, 15, 47, 58, 47, 64],\n",
              "         [58,  1, 15, 47, 58, 47, 64, 43]]),\n",
              " tensor([58, 47, 64, 43, 52]))"
            ]
          },
          "metadata": {},
          "execution_count": 172
        }
      ]
    },
    {
      "cell_type": "code",
      "source": [
        "X,y=ds[:15]\n",
        "X=X.tolist()\n",
        "\n",
        "ds.decode(X)"
      ],
      "metadata": {
        "id": "cFf-_p3MexNM",
        "outputId": "2b3c38fd-2efa-4d52-a838-bcb24a5a4ee4",
        "colab": {
          "base_uri": "https://localhost:8080/"
        }
      },
      "execution_count": 215,
      "outputs": [
        {
          "output_type": "execute_result",
          "data": {
            "text/plain": [
              "['First Ci',\n",
              " 'irst Cit',\n",
              " 'rst Citi',\n",
              " 'st Citiz',\n",
              " 't Citize',\n",
              " ' Citizen',\n",
              " 'Citizen:',\n",
              " 'itizen:\\n',\n",
              " 'tizen:\\nB',\n",
              " 'izen:\\nBe',\n",
              " 'zen:\\nBef',\n",
              " 'en:\\nBefo',\n",
              " 'n:\\nBefor',\n",
              " ':\\nBefore',\n",
              " '\\nBefore ']"
            ]
          },
          "metadata": {},
          "execution_count": 215
        }
      ]
    },
    {
      "cell_type": "code",
      "source": [
        "len(ds)"
      ],
      "metadata": {
        "colab": {
          "base_uri": "https://localhost:8080/"
        },
        "id": "UmC1S5-negSK",
        "outputId": "c40e067d-c42b-4380-9214-d00ac054a3eb"
      },
      "execution_count": 216,
      "outputs": [
        {
          "output_type": "execute_result",
          "data": {
            "text/plain": [
              "1115386"
            ]
          },
          "metadata": {},
          "execution_count": 216
        }
      ]
    },
    {
      "cell_type": "code",
      "source": [
        "ds.vocab_size"
      ],
      "metadata": {
        "colab": {
          "base_uri": "https://localhost:8080/"
        },
        "id": "pq6h-mioNB2X",
        "outputId": "ed362914-b185-4e42-cc61-73a786d4bc6d"
      },
      "execution_count": 217,
      "outputs": [
        {
          "output_type": "execute_result",
          "data": {
            "text/plain": [
              "65"
            ]
          },
          "metadata": {},
          "execution_count": 217
        }
      ]
    },
    {
      "cell_type": "code",
      "source": [
        "train_size = int(0.85 * len(ds))\n",
        "val_size = len(ds) - train_size\n",
        "\n",
        "train_ds = Subset(ds, range(0, train_size))\n",
        "val_ds = Subset(ds, range(train_size, len(ds)))\n",
        "\n",
        "print(f'Length of train-ds: {len(train_ds)}')\n",
        "print(f'Length of val-ds: {len(val_ds)}')"
      ],
      "metadata": {
        "id": "Jf8bWWanf_Bu",
        "colab": {
          "base_uri": "https://localhost:8080/"
        },
        "outputId": "89fd02f4-7eca-4558-ce7e-73c124f761ef"
      },
      "execution_count": 218,
      "outputs": [
        {
          "output_type": "stream",
          "name": "stdout",
          "text": [
            "Length of train-ds: 948078\n",
            "Length of val-ds: 167308\n"
          ]
        }
      ]
    },
    {
      "cell_type": "code",
      "source": [
        "X,y=val_ds[:25]\n",
        "X,y"
      ],
      "metadata": {
        "id": "tW-jzrpje-3B",
        "outputId": "20ba60a0-085e-4f02-9400-dd0e90f8ab87",
        "colab": {
          "base_uri": "https://localhost:8080/"
        }
      },
      "execution_count": 222,
      "outputs": [
        {
          "output_type": "execute_result",
          "data": {
            "text/plain": [
              "(tensor([[43,  6,  0, 13, 57,  1, 21,  6],\n",
              "         [ 6,  0, 13, 57,  1, 21,  6,  1],\n",
              "         [ 0, 13, 57,  1, 21,  6,  1, 58],\n",
              "         [13, 57,  1, 21,  6,  1, 58, 46],\n",
              "         [57,  1, 21,  6,  1, 58, 46, 59],\n",
              "         [ 1, 21,  6,  1, 58, 46, 59, 57],\n",
              "         [21,  6,  1, 58, 46, 59, 57,  1],\n",
              "         [ 6,  1, 58, 46, 59, 57,  1, 61],\n",
              "         [ 1, 58, 46, 59, 57,  1, 61, 56],\n",
              "         [58, 46, 59, 57,  1, 61, 56, 53],\n",
              "         [46, 59, 57,  1, 61, 56, 53, 52],\n",
              "         [59, 57,  1, 61, 56, 53, 52, 45],\n",
              "         [57,  1, 61, 56, 53, 52, 45,  5],\n",
              "         [ 1, 61, 56, 53, 52, 45,  5, 42],\n",
              "         [61, 56, 53, 52, 45,  5, 42,  6],\n",
              "         [56, 53, 52, 45,  5, 42,  6,  1],\n",
              "         [53, 52, 45,  5, 42,  6,  1, 46],\n",
              "         [52, 45,  5, 42,  6,  1, 46, 43],\n",
              "         [45,  5, 42,  6,  1, 46, 43, 52],\n",
              "         [ 5, 42,  6,  1, 46, 43, 52, 41],\n",
              "         [42,  6,  1, 46, 43, 52, 41, 43],\n",
              "         [ 6,  1, 46, 43, 52, 41, 43,  1],\n",
              "         [ 1, 46, 43, 52, 41, 43,  1, 59],\n",
              "         [46, 43, 52, 41, 43,  1, 59, 52],\n",
              "         [43, 52, 41, 43,  1, 59, 52, 40]]),\n",
              " tensor([ 1, 58, 46, 59, 57,  1, 61, 56, 53, 52, 45,  5, 42,  6,  1, 46, 43, 52,\n",
              "         41, 43,  1, 59, 52, 40, 43]))"
            ]
          },
          "metadata": {},
          "execution_count": 222
        }
      ]
    },
    {
      "cell_type": "code",
      "source": [
        "X=X.tolist()\n",
        "ds.decode(X)"
      ],
      "metadata": {
        "id": "dKg7KoisfE3i",
        "outputId": "114d14f9-ecb6-4e4e-a8f9-001f0e4e33be",
        "colab": {
          "base_uri": "https://localhost:8080/"
        }
      },
      "execution_count": 223,
      "outputs": [
        {
          "output_type": "execute_result",
          "data": {
            "text/plain": [
              "['e,\\nAs I,',\n",
              " ',\\nAs I, ',\n",
              " '\\nAs I, t',\n",
              " 'As I, th',\n",
              " 's I, thu',\n",
              " ' I, thus',\n",
              " 'I, thus ',\n",
              " ', thus w',\n",
              " ' thus wr',\n",
              " 'thus wro',\n",
              " 'hus wron',\n",
              " 'us wrong',\n",
              " \"s wrong'\",\n",
              " \" wrong'd\",\n",
              " \"wrong'd,\",\n",
              " \"rong'd, \",\n",
              " \"ong'd, h\",\n",
              " \"ng'd, he\",\n",
              " \"g'd, hen\",\n",
              " \"'d, henc\",\n",
              " 'd, hence',\n",
              " ', hence ',\n",
              " ' hence u',\n",
              " 'hence un',\n",
              " 'ence unb']"
            ]
          },
          "metadata": {},
          "execution_count": 223
        }
      ]
    },
    {
      "cell_type": "code",
      "source": [
        "train_dl=DataLoader(train_ds,batch_size=batch_size,shuffle=False,num_workers=2,pin_memory=True)\n",
        "val_dl=DataLoader(val_ds,batch_size=batch_size*2,shuffle=False,num_workers=2,pin_memory=True)"
      ],
      "metadata": {
        "id": "Ij_PzOAbIjr0"
      },
      "execution_count": 226,
      "outputs": []
    },
    {
      "cell_type": "code",
      "source": [
        "len(train_dl),len(val_dl)"
      ],
      "metadata": {
        "id": "1RQh20M-iINv",
        "outputId": "8d73aebc-707a-4c7b-a584-eab0ed5250e1",
        "colab": {
          "base_uri": "https://localhost:8080/"
        }
      },
      "execution_count": 227,
      "outputs": [
        {
          "output_type": "execute_result",
          "data": {
            "text/plain": [
              "(14814, 1308)"
            ]
          },
          "metadata": {},
          "execution_count": 227
        }
      ]
    },
    {
      "cell_type": "code",
      "source": [
        "class RnnTinyShakespear(nn.Module):\n",
        "  def __init__(self,block_size,embedding_dim,vocab_size,rnn_hidden=100,num_layers=3):\n",
        "    super().__init__()\n",
        "    self.embedding=nn.Embedding(vocab_size,embedding_dim)\n",
        "    self.rnn=nn.LSTM(embedding_dim,rnn_hidden,num_layers,batch_first=True,dropout=0.2,bidirectional=False)\n",
        "    self.linear=nn.Linear(rnn_hidden*block_size,vocab_size)\n",
        "\n",
        "  def forward(self,x):\n",
        "    out=self.embedding(x)\n",
        "    # print(f\"Embedding:{x.shape}\")\n",
        "    out,(hidden,cell)=self.rnn(out)\n",
        "    # print(f\"out:{out.shape}\")\n",
        "    # print(f\"hidden:{hidden.shape}\")\n",
        "    # print(f\"cell:{cell.shape}\")\n",
        "    out=out.contiguous().view(x.size(0),-1)\n",
        "    out=self.linear(out)\n",
        "    # print(f\"out:{out.shape}\")\n",
        "    return out\n"
      ],
      "metadata": {
        "id": "s89wDXguIY04"
      },
      "execution_count": 276,
      "outputs": []
    },
    {
      "cell_type": "code",
      "source": [
        "model=RnnTinyShakespear(block_size,15,ds.vocab_size)\n",
        "model"
      ],
      "metadata": {
        "colab": {
          "base_uri": "https://localhost:8080/"
        },
        "id": "1pYBe7PWMvyj",
        "outputId": "ac5fe402-3a49-4c0a-f5c7-d25a751960b8"
      },
      "execution_count": 277,
      "outputs": [
        {
          "output_type": "execute_result",
          "data": {
            "text/plain": [
              "RnnTinyShakespear(\n",
              "  (embedding): Embedding(65, 15)\n",
              "  (rnn): LSTM(15, 100, num_layers=3, batch_first=True, dropout=0.2)\n",
              "  (linear): Linear(in_features=800, out_features=65, bias=True)\n",
              ")"
            ]
          },
          "metadata": {},
          "execution_count": 277
        }
      ]
    },
    {
      "cell_type": "code",
      "source": [
        "for x,y in train_dl:\n",
        "  print(f\"X:{x.shape}\")\n",
        "  print(f\"y:{y.shape}\")\n",
        "  out=model(x)\n",
        "  break"
      ],
      "metadata": {
        "colab": {
          "base_uri": "https://localhost:8080/"
        },
        "id": "d0n92Ka9NR9k",
        "outputId": "009fba44-2b78-4738-afde-8b02ebf5c3ac"
      },
      "execution_count": 278,
      "outputs": [
        {
          "output_type": "stream",
          "name": "stdout",
          "text": [
            "X:torch.Size([64, 8])\n",
            "y:torch.Size([64])\n"
          ]
        }
      ]
    },
    {
      "cell_type": "code",
      "source": [
        "device=torch.device('cuda' if torch.cuda.is_available() else 'cpu')\n",
        "device"
      ],
      "metadata": {
        "colab": {
          "base_uri": "https://localhost:8080/"
        },
        "id": "4pGgYIytNeJZ",
        "outputId": "0dda225b-0e30-4704-ba8b-55a881bd6e87"
      },
      "execution_count": 279,
      "outputs": [
        {
          "output_type": "execute_result",
          "data": {
            "text/plain": [
              "device(type='cuda')"
            ]
          },
          "metadata": {},
          "execution_count": 279
        }
      ]
    },
    {
      "cell_type": "code",
      "source": [
        "model=model.to(device)"
      ],
      "metadata": {
        "id": "CLA45Ui4STzG"
      },
      "execution_count": 280,
      "outputs": []
    },
    {
      "cell_type": "code",
      "source": [
        "import torch.optim as optim\n",
        "from torch.optim.lr_scheduler import StepLR, ReduceLROnPlateau\n",
        "optimizer = optim.Adam(model.parameters(), lr=3e-4)\n",
        "scheduler = StepLR(optimizer, step_size=5, gamma=0.1)"
      ],
      "metadata": {
        "id": "o9l75uPEQUV7"
      },
      "execution_count": 281,
      "outputs": []
    },
    {
      "cell_type": "code",
      "source": [
        "from tqdm import tqdm\n",
        "\n",
        "def fit(model, opt, epochs, train_dl, val_dl, scheduler=None):\n",
        "  history = {\"loss\": [], \"val_loss\": []}\n",
        "  criterion = nn.CrossEntropyLoss()\n",
        "\n",
        "  if scheduler is not None:\n",
        "      assert isinstance(scheduler, (StepLR, ReduceLROnPlateau)), \"Scheduler must be an instance of StepLR or ReduceLROnPlateau\"\n",
        "\n",
        "  for epoch in range(epochs):\n",
        "      model.train()\n",
        "      train_loss = 0.0\n",
        "      for xb, yb in tqdm(train_dl, desc=f\"Training Epoch {epoch+1}/{epochs}\"):\n",
        "          xb, yb = xb.to(device), yb.to(device)\n",
        "\n",
        "          opt.zero_grad()\n",
        "          preds = model(xb)\n",
        "          loss = criterion(preds.view(-1, preds.size(-1)), yb.view(-1))  # Calculate loss\n",
        "          loss.backward()\n",
        "          opt.step()\n",
        "\n",
        "          train_loss += loss.item() * xb.size(0)  # Accumulate loss\n",
        "\n",
        "      train_loss /= len(train_dl.dataset)\n",
        "      history[\"loss\"].append(train_loss)\n",
        "\n",
        "      model.eval()\n",
        "      val_loss = 0.0\n",
        "      with torch.no_grad():\n",
        "          for xb, yb in tqdm(val_dl, desc=f\"Validation Epoch {epoch+1}/{epochs}\"):\n",
        "              xb, yb = xb.to(device), yb.to(device)\n",
        "\n",
        "              preds = model(xb)\n",
        "              loss = criterion(preds.view(-1, preds.size(-1)), yb.view(-1))  # Calculate loss\n",
        "\n",
        "              val_loss += loss.item() * xb.size(0)  # Accumulate loss\n",
        "\n",
        "      val_loss /= len(val_dl.dataset)\n",
        "      history[\"val_loss\"].append(val_loss)\n",
        "\n",
        "      if scheduler is not None:\n",
        "          if isinstance(scheduler, StepLR):\n",
        "              scheduler.step()\n",
        "          elif isinstance(scheduler, ReduceLROnPlateau):\n",
        "              scheduler.step(val_loss)\n",
        "\n",
        "      print(f\"\\n\\nEpoch {epoch+1}/{epochs}, Train Loss: {train_loss:.4f}, Val Loss: {val_loss:.4f}\\n\\n\")\n",
        "\n",
        "  return history"
      ],
      "metadata": {
        "id": "rH3o-98MPNd2"
      },
      "execution_count": 282,
      "outputs": []
    },
    {
      "cell_type": "code",
      "source": [
        "@torch.no_grad()\n",
        "def generate(n_chars=500, temperature=1.0):\n",
        "    model.eval()\n",
        "    ix = torch.randint(len(text), (1,)).item()\n",
        "    inp = ds.encode(text[ix:ix+block_size])\n",
        "    out = [ds.decode([inp])]\n",
        "\n",
        "    for i in range(n_chars):\n",
        "        input_batch = torch.tensor(inp).unsqueeze(0).to(device)\n",
        "        logits = model(input_batch)\n",
        "\n",
        "        # Apply temperature scaling to logits for sampling diversity\n",
        "        logits /= temperature\n",
        "        probs = F.softmax(logits, dim=-1)\n",
        "\n",
        "        # Sample from the distribution\n",
        "        predicted_idx = torch.multinomial(probs, num_samples=1).squeeze().tolist()\n",
        "\n",
        "        decoded_ch = ds.decode([[predicted_idx]])\n",
        "        out.append(decoded_ch)\n",
        "\n",
        "        inp = inp[1:] + [predicted_idx]\n",
        "        print(decoded_ch, end='')\n",
        "\n",
        "    return \"\".join(out)"
      ],
      "metadata": {
        "id": "IOOoxV6QkXME"
      },
      "execution_count": 296,
      "outputs": []
    },
    {
      "cell_type": "code",
      "source": [
        "# Without Training\n",
        "print(generate(500)) # as Model is equally likely to predict any character"
      ],
      "metadata": {
        "id": "I2aOmzSTkZUL",
        "outputId": "78c7e1ac-9840-4899-b75f-1c3edd5edfca",
        "colab": {
          "base_uri": "https://localhost:8080/"
        }
      },
      "execution_count": 284,
      "outputs": [
        {
          "output_type": "stream",
          "name": "stdout",
          "text": [
            "X!adLANghxN\n",
            "; D-LRSl&umqnJHoXBnWja\n",
            "XWkmjX;LLrWjj: OebjeVlClMnhCf UPjYKnWZugk!DTEHbeJ!'!WlD$'sVYJibbD;qgqPNnxd.l.c.u;cVh&zPfuxHs, dBG3kiAqePUyygWbdUUuhksG.qG?QhP3Gg\n",
            "fDDUuPuyuXBZvrMan3cyGjikvj3k-pqO,IW!-v:l L ytiQTu&3Qx-HTscP:h-V-$$.''sKgH RMVObEnEKIaGa3R;Bt eoL,Y$,PbxBoOy;GKTLY'S'IbWn,Zc\n",
            "l&cQ33a$LgqE&QuVNFXrM,n3V;ystby'SJThYD!LwocBVBtd,;sRhmP?eD.JOrNoNnGNpgNQbYHb'B&ITFCGDW,AWgn;YY!rWy\n",
            ".B$jRFSGT;acP.VP,RKGykFBoRXdpIl Zz jIKmdjLiidtToYVQ?mQnkLpD-,ylSSUnMriRMgMBSpAr-WK&oNe?!ikqqZSJyjSg3!FjTbMYzNj-THX!adLANghxN\n",
            "; D-LRSl&umqnJHoXBnWja\n",
            "XWkmjX;LLrWjj: OebjeVlClMnhCf UPjYKnWZugk!DTEHbeJ!'!WlD$'sVYJibbD;qgqPNnxd.l.c.u;cVh&zPfuxHs, dBG3kiAqePUyygWbdUUuhksG.qG?QhP3Gg\n",
            "fDDUuPuyuXBZvrMan3cyGjikvj3k-pqO,IW!-v:l L ytiQTu&3Qx-HTscP:h-V-$$.''sKgH RMVObEnEKIaGa3R;Bt eoL,Y$,PbxBoOy;GKTLY'S'IbWn,Zc\n",
            "l&cQ33a$LgqE&QuVNFXrM,n3V;ystby'SJThYD!LwocBVBtd,;sRhmP?eD.JOrNoNnGNpgNQbYHb'B&ITFCGDW,AWgn;YY!rWy\n",
            ".B$jRFSGT;acP.VP,RKGykFBoRXdpIl Zz jIKmdjLiidtToYVQ?mQnkLpD-,ylSSUnMriRMgMBSpAr-WK&oNe?!ikqqZSJyjSg3!FjTbMYzNj-TH\n"
          ]
        }
      ]
    },
    {
      "cell_type": "code",
      "source": [
        "# Since Every char is equally likely to be predicted initial loss\n",
        "init_loss=-torch.log(1/ds.vocab_size)"
      ],
      "metadata": {
        "id": "q6MWtLtfmDbj",
        "outputId": "4a99b367-1c06-4674-d3b3-64d848182b1e",
        "colab": {
          "base_uri": "https://localhost:8080/",
          "height": 164
        }
      },
      "execution_count": 290,
      "outputs": [
        {
          "output_type": "error",
          "ename": "TypeError",
          "evalue": "log(): argument 'input' (position 1) must be Tensor, not float",
          "traceback": [
            "\u001b[0;31m---------------------------------------------------------------------------\u001b[0m",
            "\u001b[0;31mTypeError\u001b[0m                                 Traceback (most recent call last)",
            "\u001b[0;32m<ipython-input-290-4bd820d64b37>\u001b[0m in \u001b[0;36m<cell line: 2>\u001b[0;34m()\u001b[0m\n\u001b[1;32m      1\u001b[0m \u001b[0;31m# Since Every char is equally likely to be predicted initial loss\u001b[0m\u001b[0;34m\u001b[0m\u001b[0;34m\u001b[0m\u001b[0m\n\u001b[0;32m----> 2\u001b[0;31m \u001b[0minit_loss\u001b[0m\u001b[0;34m=\u001b[0m\u001b[0;34m-\u001b[0m\u001b[0mtorch\u001b[0m\u001b[0;34m.\u001b[0m\u001b[0mlog\u001b[0m\u001b[0;34m(\u001b[0m\u001b[0;36m1\u001b[0m\u001b[0;34m/\u001b[0m\u001b[0mds\u001b[0m\u001b[0;34m.\u001b[0m\u001b[0mvocab_size\u001b[0m\u001b[0;34m)\u001b[0m\u001b[0;34m\u001b[0m\u001b[0;34m\u001b[0m\u001b[0m\n\u001b[0m",
            "\u001b[0;31mTypeError\u001b[0m: log(): argument 'input' (position 1) must be Tensor, not float"
          ]
        }
      ]
    },
    {
      "cell_type": "code",
      "source": [
        "history = fit(model, optimizer, 7, train_dl, val_dl,scheduler)"
      ],
      "metadata": {
        "colab": {
          "base_uri": "https://localhost:8080/"
        },
        "id": "2pka5I86QuiW",
        "outputId": "749dcedd-18ea-48ae-869c-cb273c61d8b6"
      },
      "execution_count": 285,
      "outputs": [
        {
          "output_type": "stream",
          "name": "stderr",
          "text": [
            "Training Epoch 1/7: 100%|██████████| 14814/14814 [01:06<00:00, 224.02it/s]\n",
            "Validation Epoch 1/7: 100%|██████████| 1308/1308 [00:04<00:00, 267.07it/s]\n"
          ]
        },
        {
          "output_type": "stream",
          "name": "stdout",
          "text": [
            "\n",
            "\n",
            "Epoch 1/7, Train Loss: 2.2202, Val Loss: 2.0401\n",
            "\n",
            "\n"
          ]
        },
        {
          "output_type": "stream",
          "name": "stderr",
          "text": [
            "Training Epoch 2/7: 100%|██████████| 14814/14814 [01:06<00:00, 224.10it/s]\n",
            "Validation Epoch 2/7: 100%|██████████| 1308/1308 [00:04<00:00, 307.80it/s]\n"
          ]
        },
        {
          "output_type": "stream",
          "name": "stdout",
          "text": [
            "\n",
            "\n",
            "Epoch 2/7, Train Loss: 1.8155, Val Loss: 1.9114\n",
            "\n",
            "\n"
          ]
        },
        {
          "output_type": "stream",
          "name": "stderr",
          "text": [
            "Training Epoch 3/7: 100%|██████████| 14814/14814 [01:14<00:00, 199.80it/s]\n",
            "Validation Epoch 3/7: 100%|██████████| 1308/1308 [00:07<00:00, 167.75it/s]\n"
          ]
        },
        {
          "output_type": "stream",
          "name": "stdout",
          "text": [
            "\n",
            "\n",
            "Epoch 3/7, Train Loss: 1.6954, Val Loss: 1.8497\n",
            "\n",
            "\n"
          ]
        },
        {
          "output_type": "stream",
          "name": "stderr",
          "text": [
            "Training Epoch 4/7: 100%|██████████| 14814/14814 [01:08<00:00, 217.83it/s]\n",
            "Validation Epoch 4/7: 100%|██████████| 1308/1308 [00:04<00:00, 270.24it/s]\n"
          ]
        },
        {
          "output_type": "stream",
          "name": "stdout",
          "text": [
            "\n",
            "\n",
            "Epoch 4/7, Train Loss: 1.6285, Val Loss: 1.8182\n",
            "\n",
            "\n"
          ]
        },
        {
          "output_type": "stream",
          "name": "stderr",
          "text": [
            "Training Epoch 5/7: 100%|██████████| 14814/14814 [01:06<00:00, 222.17it/s]\n",
            "Validation Epoch 5/7: 100%|██████████| 1308/1308 [00:04<00:00, 317.07it/s]\n"
          ]
        },
        {
          "output_type": "stream",
          "name": "stdout",
          "text": [
            "\n",
            "\n",
            "Epoch 5/7, Train Loss: 1.5844, Val Loss: 1.7987\n",
            "\n",
            "\n"
          ]
        },
        {
          "output_type": "stream",
          "name": "stderr",
          "text": [
            "Training Epoch 6/7: 100%|██████████| 14814/14814 [01:07<00:00, 219.72it/s]\n",
            "Validation Epoch 6/7: 100%|██████████| 1308/1308 [00:04<00:00, 317.34it/s]\n"
          ]
        },
        {
          "output_type": "stream",
          "name": "stdout",
          "text": [
            "\n",
            "\n",
            "Epoch 6/7, Train Loss: 1.5767, Val Loss: 1.7621\n",
            "\n",
            "\n"
          ]
        },
        {
          "output_type": "stream",
          "name": "stderr",
          "text": [
            "Training Epoch 7/7: 100%|██████████| 14814/14814 [01:06<00:00, 223.69it/s]\n",
            "Validation Epoch 7/7: 100%|██████████| 1308/1308 [00:04<00:00, 322.96it/s]"
          ]
        },
        {
          "output_type": "stream",
          "name": "stdout",
          "text": [
            "\n",
            "\n",
            "Epoch 7/7, Train Loss: 1.5583, Val Loss: 1.7586\n",
            "\n",
            "\n"
          ]
        },
        {
          "output_type": "stream",
          "name": "stderr",
          "text": [
            "\n"
          ]
        }
      ]
    },
    {
      "cell_type": "code",
      "source": [
        "torch.save(model.state_dict(),\"/content/drive/MyDrive/Colab Notebooks/Saved Models/rnn_language_model.pth\")"
      ],
      "metadata": {
        "id": "WtHMIxB4aQS2"
      },
      "execution_count": 286,
      "outputs": []
    },
    {
      "cell_type": "code",
      "source": [
        "def plot_loss(history):\n",
        "    plt.plot(history['loss'], label='Training Loss', marker='o')\n",
        "    plt.plot(history['val_loss'], label='Validation Loss', marker='o')\n",
        "    plt.title('Training and Validation Loss')\n",
        "    plt.xlabel('Epoch')\n",
        "    plt.ylabel('Loss')\n",
        "    plt.legend()\n",
        "    plt.grid(True)\n",
        "    plt.show()\n",
        "\n",
        "plot_loss(history)"
      ],
      "metadata": {
        "id": "S241QM4dZfFH",
        "outputId": "d6b16b81-b0dc-4c00-bdf7-e99669abf9b9",
        "colab": {
          "base_uri": "https://localhost:8080/",
          "height": 472
        }
      },
      "execution_count": 287,
      "outputs": [
        {
          "output_type": "display_data",
          "data": {
            "text/plain": [
              "<Figure size 640x480 with 1 Axes>"
            ],
            "image/png": "[encoded data removed]"
          },
          "metadata": {}
        }
      ]
    },
    {
      "cell_type": "code",
      "source": [
        "print(generate(500))"
      ],
      "metadata": {
        "id": "rB_UOHoVa4Qy",
        "outputId": "662c6818-7cfc-4e1f-81e6-197b8068bd05",
        "colab": {
          "base_uri": "https://localhost:8080/"
        }
      },
      "execution_count": 298,
      "outputs": [
        {
          "output_type": "stream",
          "name": "stdout",
          "text": [
            " behiid; sweet, and him.\n",
            "\n",
            "POMPEY:\n",
            "I know for thee; succesces,\n",
            "And from this keed you as it tell you wake him therefore but, but and to her\n",
            "Go so rupy somet\n",
            "Who boy the provaltary heart hy will knot the give to look he to mine\n",
            "Hath prace.\n",
            "\n",
            "CYOp Lester conscipent than he may came steap intending of me\n",
            "Far.\n",
            "\n",
            "ISABELLA:\n",
            "When every nicher.\n",
            "\n",
            "FROTUZ:\n",
            "Looky not.\n",
            "\n",
            "DUKE VINCENTIO:\n",
            "That can\n",
            "Well from this sif, thriek draw,\n",
            "And should reqsbees from thus, retirate you, and wixed bitturely from his:\n",
            "Ay. Why, bho finds behiid; sweet, and him.\n",
            "\n",
            "POMPEY:\n",
            "I know for thee; succesces,\n",
            "And from this keed you as it tell you wake him therefore but, but and to her\n",
            "Go so rupy somet\n",
            "Who boy the provaltary heart hy will knot the give to look he to mine\n",
            "Hath prace.\n",
            "\n",
            "CYOp Lester conscipent than he may came steap intending of me\n",
            "Far.\n",
            "\n",
            "ISABELLA:\n",
            "When every nicher.\n",
            "\n",
            "FROTUZ:\n",
            "Looky not.\n",
            "\n",
            "DUKE VINCENTIO:\n",
            "That can\n",
            "Well from this sif, thriek draw,\n",
            "And should reqsbees from thus, retirate you, and wixed bitturely from his:\n",
            "Ay. Why, b\n"
          ]
        }
      ]
    },
    {
      "cell_type": "code",
      "source": [
        "# Done"
      ],
      "metadata": {
        "id": "qtnyFePJa5ZS"
      },
      "execution_count": 289,
      "outputs": []
    }
  ]
}