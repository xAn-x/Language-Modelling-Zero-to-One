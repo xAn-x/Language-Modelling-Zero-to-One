{
  "nbformat": 4,
  "nbformat_minor": 0,
  "metadata": {
    "colab": {
      "provenance": [],
      "authorship_tag": "ABX9TyMA75fD3ZAzuDxseGVNhVXI",
      "include_colab_link": true
    },
    "kernelspec": {
      "name": "python3",
      "display_name": "Python 3"
    },
    "language_info": {
      "name": "python"
    }
  },
  "cells": [
    {
      "cell_type": "markdown",
      "metadata": {
        "id": "view-in-github",
        "colab_type": "text"
      },
      "source": [
        "<a href=\"https://colab.research.google.com/github/xAn-x/Language-Modelling-Zero-to-One/blob/master/01_Bigram_Language_Model.ipynb\" target=\"_parent\"><img src=\"https://colab.research.google.com/assets/colab-badge.svg\" alt=\"Open In Colab\"/></a>"
      ]
    },
    {
      "cell_type": "markdown",
      "source": [
        "### Understanding the Bigram Model\n",
        "\n",
        "A Bigram Model is a simple way to predict the next word in a sequence by looking at the previous word. It's called \"bigram\" because it considers pairs of words (bi means two). Here's a step-by-step explanation:\n",
        "\n",
        "1. **Data Preparation**:\n",
        "   - Collect a large amount of text.\n",
        "   - Split the text into individual words.\n",
        "\n",
        "2. **Counting Pairs**:\n",
        "   - Count how often each word pair appears. For example, in the sentence \"I love coding,\" the pairs are \"I love\" and \"love coding.\"\n",
        "\n",
        "3. **Probability Calculation**:\n",
        "   - Calculate the probability of a word following another word. For example, if \"love\" appears 10 times after \"I\" and \"I\" appears 20 times overall, the probability is 10/20 or 0.5.\n",
        "\n",
        "4. **Prediction**:\n",
        "   - To predict the next word, look at the current word and choose the word with the highest probability of following it. For example, if \"I\" is the current word, and \"love\" has the highest probability of following \"I,\" then \"love\" is the predicted next word.\n",
        "\n",
        "### Example\n",
        "\n",
        "Let's say we have this simple text:\n",
        "\n",
        "\"I love coding. I love machine learning. I enjoy learning new things.\"\n",
        "\n",
        "1. **Pairs**:\n",
        "   - \"I love\" appears twice.\n",
        "   - \"love coding\" appears once.\n",
        "   - \"coding I\" appears once (if we treat sentences as continuous).\n",
        "   - \"I enjoy\" appears once.\n",
        "   - \"enjoy learning\" appears once.\n",
        "   - \"learning new\" appears once.\n",
        "   - \"new things\" appears once.\n",
        "\n",
        "2. **Probability Calculation**:\n",
        "   - P(love | I) = 2/3 (since \"I\" appears three times in total: twice followed by \"love\" and once by \"enjoy\").\n",
        "   - P(coding | love) = 1/2 (since \"love\" appears twice: once followed by \"coding\" and once by \"machine\").\n",
        "   - P(machine | love) = 1/2.\n",
        "\n",
        "3. **Prediction**:\n",
        "   - If the current word is \"I,\" the model predicts \"love\" because it has the highest probability (2/3).\n",
        "   - If the current word is \"love,\" the model predicts \"coding\" or \"machine\" with equal probability (1/2 each).\n",
        "\n",
        "The Bigram Model is simple and easy to understand but has limitations. It only considers one previous word, so it doesn't capture long-range dependencies or context. More advanced models like Trigrams (considering two previous words) or Transformers address these limitations by considering a broader context."
      ],
      "metadata": {
        "id": "gHnPxBXMgO9X"
      }
    },
    {
      "cell_type": "code",
      "source": [
        "import torch\n",
        "import torch.nn as nn\n",
        "import torch.nn.functional as F\n",
        "import numpy as np\n",
        "import matplotlib.pyplot as plt\n",
        "% matplotlib inline"
      ],
      "metadata": {
        "colab": {
          "base_uri": "https://localhost:8080/"
        },
        "id": "_-EWDCznYJDD",
        "outputId": "0a72b8df-7a33-4541-fd59-57a7603487f1"
      },
      "execution_count": 2,
      "outputs": [
        {
          "output_type": "stream",
          "name": "stderr",
          "text": [
            "UsageError: Line magic function `%` not found.\n"
          ]
        }
      ]
    },
    {
      "cell_type": "code",
      "source": [
        "! wget https://raw.githubusercontent.com/karpathy/char-rnn/master/data/tinyshakespeare/input.txt"
      ],
      "metadata": {
        "colab": {
          "base_uri": "https://localhost:8080/"
        },
        "id": "5vzX9d8-YQTx",
        "outputId": "f05f7b7a-2524-4e44-b9be-dfbf5bbd9274"
      },
      "execution_count": 3,
      "outputs": [
        {
          "output_type": "stream",
          "name": "stdout",
          "text": [
            "--2024-07-07 13:28:48--  https://raw.githubusercontent.com/karpathy/char-rnn/master/data/tinyshakespeare/input.txt\n",
            "Resolving raw.githubusercontent.com (raw.githubusercontent.com)... 185.199.108.133, 185.199.109.133, 185.199.110.133, ...\n",
            "Connecting to raw.githubusercontent.com (raw.githubusercontent.com)|185.199.108.133|:443... connected.\n",
            "HTTP request sent, awaiting response... 200 OK\n",
            "Length: 1115394 (1.1M) [text/plain]\n",
            "Saving to: ‘input.txt’\n",
            "\n",
            "input.txt           100%[===================>]   1.06M  --.-KB/s    in 0.06s   \n",
            "\n",
            "2024-07-07 13:28:48 (17.2 MB/s) - ‘input.txt’ saved [1115394/1115394]\n",
            "\n"
          ]
        }
      ]
    },
    {
      "cell_type": "code",
      "source": [
        "with open('input.txt','r',encoding='utf-8') as f:\n",
        "    text = f.read()"
      ],
      "metadata": {
        "id": "jArpXqviYgmb"
      },
      "execution_count": 4,
      "outputs": []
    },
    {
      "cell_type": "code",
      "source": [
        "print(text[:500])"
      ],
      "metadata": {
        "colab": {
          "base_uri": "https://localhost:8080/"
        },
        "id": "VZqKgXXaYl_d",
        "outputId": "dec67b1a-00c6-4437-be02-ec8bdedb8d2e"
      },
      "execution_count": 6,
      "outputs": [
        {
          "output_type": "stream",
          "name": "stdout",
          "text": [
            "First Citizen:\n",
            "Before we proceed any further, hear me speak.\n",
            "\n",
            "All:\n",
            "Speak, speak.\n",
            "\n",
            "First Citizen:\n",
            "You are all resolved rather to die than to famish?\n",
            "\n",
            "All:\n",
            "Resolved. resolved.\n",
            "\n",
            "First Citizen:\n",
            "First, you know Caius Marcius is chief enemy to the people.\n",
            "\n",
            "All:\n",
            "We know't, we know't.\n",
            "\n",
            "First Citizen:\n",
            "Let us kill him, and we'll have corn at our own price.\n",
            "Is't a verdict?\n",
            "\n",
            "All:\n",
            "No more talking on't; let it be done: away, away!\n",
            "\n",
            "Second Citizen:\n",
            "One word, good citizens.\n",
            "\n",
            "First Citizen:\n",
            "We are accounted poor\n"
          ]
        }
      ]
    },
    {
      "cell_type": "code",
      "source": [
        "vocab=sorted(list(set(text)))\n",
        "\n",
        "vocab_size=len(vocab)\n",
        "print(f\"vocab size: {vocab_size}\")\n",
        "print(f\"vocab: {vocab}\")"
      ],
      "metadata": {
        "colab": {
          "base_uri": "https://localhost:8080/"
        },
        "id": "gD2OyLtEYn7B",
        "outputId": "3aa44a5f-724d-4f21-b063-62ebba0796f5"
      },
      "execution_count": 7,
      "outputs": [
        {
          "output_type": "stream",
          "name": "stdout",
          "text": [
            "vocab size: 65\n",
            "vocab: ['\\n', ' ', '!', '$', '&', \"'\", ',', '-', '.', '3', ':', ';', '?', 'A', 'B', 'C', 'D', 'E', 'F', 'G', 'H', 'I', 'J', 'K', 'L', 'M', 'N', 'O', 'P', 'Q', 'R', 'S', 'T', 'U', 'V', 'W', 'X', 'Y', 'Z', 'a', 'b', 'c', 'd', 'e', 'f', 'g', 'h', 'i', 'j', 'k', 'l', 'm', 'n', 'o', 'p', 'q', 'r', 's', 't', 'u', 'v', 'w', 'x', 'y', 'z']\n"
          ]
        }
      ]
    },
    {
      "cell_type": "code",
      "source": [
        "stoi={ch:i for i,ch in enumerate(vocab)}\n",
        "itos={i:ch for i,ch in enumerate(vocab)}\n",
        "\n",
        "def encode(s:str)->list:\n",
        "    return [stoi[ch] for ch in s]\n",
        "\n",
        "def decode(l:list)->str:\n",
        "    return ''.join([itos[i] for i in l])"
      ],
      "metadata": {
        "id": "ToIJDl3pY-ap"
      },
      "execution_count": 8,
      "outputs": []
    },
    {
      "cell_type": "code",
      "source": [
        "print(encode(\"Hello,World\"))\n",
        "print(decode(encode(\"Hello,World\")))"
      ],
      "metadata": {
        "colab": {
          "base_uri": "https://localhost:8080/"
        },
        "id": "WGPdfAiSZQJF",
        "outputId": "3d884a43-74eb-4b8c-a5bc-d15c9cd7583a"
      },
      "execution_count": 9,
      "outputs": [
        {
          "output_type": "stream",
          "name": "stdout",
          "text": [
            "[20, 43, 50, 50, 53, 6, 35, 53, 56, 50, 42]\n",
            "Hello,World\n"
          ]
        }
      ]
    },
    {
      "cell_type": "code",
      "source": [
        "data=torch.tensor(encode(text),dtype=torch.long)\n",
        "\n",
        "matrix=torch.zeros([vocab_size,vocab_size],dtype=torch.long)\n",
        "for ch1,ch2 in zip(data,data[1:]):\n",
        "    matrix[ch1,ch2]+=1"
      ],
      "metadata": {
        "id": "wGeZwAAEZZv9"
      },
      "execution_count": 12,
      "outputs": []
    },
    {
      "cell_type": "code",
      "source": [
        "matrix.shape"
      ],
      "metadata": {
        "colab": {
          "base_uri": "https://localhost:8080/"
        },
        "id": "Q5gxca9waaEi",
        "outputId": "4139e31e-ba65-439c-c4cc-f163c32e58cf"
      },
      "execution_count": 13,
      "outputs": [
        {
          "output_type": "execute_result",
          "data": {
            "text/plain": [
              "torch.Size([65, 65])"
            ]
          },
          "metadata": {},
          "execution_count": 13
        }
      ]
    },
    {
      "cell_type": "code",
      "source": [
        "# Plotting the bigram matrix\n",
        "plt.figure(figsize=(12, 12))\n",
        "plt.imshow(matrix, cmap='gray', interpolation='nearest')\n",
        "# plt.colorbar()\n",
        "plt.title(\"Bigram Matrix\")\n",
        "plt.xlabel(\"Character j (follows)\")\n",
        "plt.ylabel(\"Character i (precedes)\")\n",
        "plt.xticks(ticks=np.arange(len(vocab)), labels=[itos[i] for i in range(len(vocab))])\n",
        "plt.yticks(ticks=np.arange(len(vocab)), labels=[itos[i] for i in range(len(vocab))])\n",
        "plt.show()"
      ],
      "metadata": {
        "colab": {
          "base_uri": "https://localhost:8080/",
          "height": 1000
        },
        "id": "71oQIAeOac0k",
        "outputId": "57f9ad91-8456-44b1-b007-621cbffb7181"
      },
      "execution_count": 23,
      "outputs": [
        {
          "output_type": "display_data",
          "data": {
            "text/plain": [
              "<Figure size 1200x1200 with 1 Axes>"
            ],
            "image/png": "[encoded data removed]"
          },
          "metadata": {}
        }
      ]
    },
    {
      "cell_type": "markdown",
      "source": [
        "`We can see There are some region more pronounced than others => our model has learned something`"
      ],
      "metadata": {
        "id": "R51-v2M_a4dr"
      }
    },
    {
      "cell_type": "code",
      "source": [
        "probs=matrix/torch.sum(matrix,dim=-1,keepdim=True) # Normalize the rows"
      ],
      "metadata": {
        "id": "6UWzeIlTdwLa"
      },
      "execution_count": 27,
      "outputs": []
    },
    {
      "cell_type": "code",
      "source": [
        "def generate_text(n_chars=500):\n",
        "  idx=0 # '/n' char start with this and keep generating\n",
        "  chars=[]\n",
        "  for i in range(n_chars):\n",
        "    row=probs[idx]\n",
        "    idx=torch.multinomial(row,num_samples=1).item()\n",
        "    chars.append(itos[idx])\n",
        "  return ''.join(chars)"
      ],
      "metadata": {
        "id": "G4D1Q02NdP5M"
      },
      "execution_count": 29,
      "outputs": []
    },
    {
      "cell_type": "code",
      "source": [
        "print(generate_text(700))"
      ],
      "metadata": {
        "colab": {
          "base_uri": "https://localhost:8080/"
        },
        "id": "1BNT2ekkeqfB",
        "outputId": "1e1749e6-8dba-4844-b15a-4070f7ddb72c"
      },
      "execution_count": 32,
      "outputs": [
        {
          "output_type": "stream",
          "name": "stdout",
          "text": [
            "TIS:\n",
            "Thiee unabe gr ico mant mithee mes hamad we thy henksigis; ber mu yovigng d be ishom, oupo rarotiverewio ces gseareranohes wsplllfim an parora grond Teer'el caveaccaputouslorounomberde t Virend cad, s yo'r, Rin;\n",
            "\n",
            "YOMI prs meror omaisurs ay y uswod s fo y, th atil t,\n",
            "\n",
            "\n",
            "Youter y hororalindin ig'be, od,\n",
            "\n",
            "N mang be ut f yond, mo; rour witheamig,\n",
            "HO:\n",
            "SBule t hent toncara\n",
            "THIDomer 'sfeu:\n",
            "\n",
            "ABEENRToout ndiot as---d o IUMy INarom'ssind mabeild s sor:\n",
            "Gaithan thaily anothind the hr,\n",
            "ARSOR: fa ye d tcesirin he ord, nd, d nde, ts CI le,\n",
            "Br us memy.\n",
            "CIORWe mabjoran!\n",
            "KENomiosshosithe t Bu to qusthil.\n",
            "BENClllinds\n",
            "\n",
            "Helice!-Orithand latheaimatheshindsth wimyous le ndell alecas oforss f towi'd youstheeli\n"
          ]
        }
      ]
    },
    {
      "cell_type": "code",
      "source": [],
      "metadata": {
        "id": "tldhJ5elesx-"
      },
      "execution_count": null,
      "outputs": []
    }
  ]
}