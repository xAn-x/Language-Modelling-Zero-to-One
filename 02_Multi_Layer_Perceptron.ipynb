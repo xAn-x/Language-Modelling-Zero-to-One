{
  "nbformat": 4,
  "nbformat_minor": 0,
  "metadata": {
    "colab": {
      "provenance": [],
      "gpuType": "T4",
      "authorship_tag": "ABX9TyOwUa95ZDyxmhtx+uQjDUfQ",
      "include_colab_link": true
    },
    "kernelspec": {
      "name": "python3",
      "display_name": "Python 3"
    },
    "language_info": {
      "name": "python"
    },
    "accelerator": "GPU"
  },
  "cells": [
    {
      "cell_type": "markdown",
      "metadata": {
        "id": "view-in-github",
        "colab_type": "text"
      },
      "source": [
        "<a href=\"https://colab.research.google.com/github/xAn-x/Language-Modelling-Zero-to-One/blob/master/02_Multi_Layer_Perceptron.ipynb\" target=\"_parent\"><img src=\"https://colab.research.google.com/assets/colab-badge.svg\" alt=\"Open In Colab\"/></a>"
      ]
    },
    {
      "cell_type": "markdown",
      "source": [
        "### Understanding the Multilayer Perceptron (MLP) Model\n",
        "\n",
        "A Multilayer Perceptron (MLP) is a type of artificial neural network used for various tasks like classification, regression, and more. It consists of multiple layers of neurons, which are interconnected and work together to learn patterns in data. Here's a simple explanation:\n",
        "\n",
        "1. **Neurons and Layers**:\n",
        "   - **Neurons**: Basic units that receive inputs, apply a transformation (usually a weighted sum), and pass the result through an activation function.\n",
        "   - **Layers**: MLPs have an input layer, one or more hidden layers, and an output layer. Each layer consists of multiple neurons.\n",
        "\n",
        "2. **Input Layer**:\n",
        "   - This is the first layer of the network that takes the input data. Each neuron in this layer represents an input feature.\n",
        "\n",
        "3. **Hidden Layers**:\n",
        "   - These layers are in between the input and output layers. They perform computations and feature extraction.\n",
        "   - Each neuron in a hidden layer takes inputs from all neurons in the previous layer, applies weights, sums them up, and passes the result through an activation function (like ReLU or sigmoid).\n",
        "\n",
        "4. **Output Layer**:\n",
        "   - This is the final layer that produces the output of the network. The number of neurons in this layer depends on the task (e.g., one neuron for binary classification, multiple neurons for multi-class classification).\n",
        "\n",
        "5. **Weights and Biases**:\n",
        "   - Each connection between neurons has a weight that adjusts as the network learns.\n",
        "   - Each neuron has a bias term added to the weighted sum before applying the activation function.\n",
        "\n",
        "6. **Activation Functions**:\n",
        "   - Functions like ReLU (Rectified Linear Unit), sigmoid, or tanh are applied to the output of each neuron to introduce non-linearity. This allows the network to learn complex patterns.\n",
        "\n",
        "7. **Forward Propagation**:\n",
        "   - Data passes from the input layer through the hidden layers to the output layer. At each neuron, inputs are weighted, summed, and passed through an activation function.\n",
        "\n",
        "8. **Backward Propagation**:\n",
        "   - The network's output is compared to the actual target values using a loss function.\n",
        "   - The error is propagated back through the network, and weights are adjusted using an optimization algorithm (like gradient descent) to minimize the error."
      ],
      "metadata": {
        "id": "JkdBxbh2hRy7"
      }
    },
    {
      "cell_type": "markdown",
      "source": [
        "## `MLP => Using a Neural Net for language Modelling:`"
      ],
      "metadata": {
        "id": "bedv59nvha3q"
      }
    },
    {
      "cell_type": "code",
      "source": [
        "import torch\n",
        "import numpy as np\n",
        "import matplotlib.pyplot as plt\n",
        "%matplotlib inline"
      ],
      "metadata": {
        "id": "sHhwCWK2qkwT"
      },
      "execution_count": 1,
      "outputs": []
    },
    {
      "cell_type": "code",
      "source": [
        "!wget https://raw.githubusercontent.com/karpathy/char-rnn/master/data/tinyshakespeare/input.txt"
      ],
      "metadata": {
        "colab": {
          "base_uri": "https://localhost:8080/"
        },
        "id": "C7XC_VJLq2F_",
        "outputId": "37e6877e-84dc-485d-8682-e09d342a718a"
      },
      "execution_count": 2,
      "outputs": [
        {
          "output_type": "stream",
          "name": "stdout",
          "text": [
            "--2024-07-10 04:57:32--  https://raw.githubusercontent.com/karpathy/char-rnn/master/data/tinyshakespeare/input.txt\n",
            "Resolving raw.githubusercontent.com (raw.githubusercontent.com)... 185.199.108.133, 185.199.109.133, 185.199.110.133, ...\n",
            "Connecting to raw.githubusercontent.com (raw.githubusercontent.com)|185.199.108.133|:443... connected.\n",
            "HTTP request sent, awaiting response... 200 OK\n",
            "Length: 1115394 (1.1M) [text/plain]\n",
            "Saving to: ‘input.txt’\n",
            "\n",
            "input.txt           100%[===================>]   1.06M  --.-KB/s    in 0.01s   \n",
            "\n",
            "2024-07-10 04:57:32 (104 MB/s) - ‘input.txt’ saved [1115394/1115394]\n",
            "\n"
          ]
        }
      ]
    },
    {
      "cell_type": "code",
      "source": [
        "with open('input.txt','r',encoding=\"utf-8\") as f:\n",
        "  text=f.read()"
      ],
      "metadata": {
        "id": "jckH2AGEq4LR"
      },
      "execution_count": 3,
      "outputs": []
    },
    {
      "cell_type": "code",
      "source": [
        "print(text[:300])"
      ],
      "metadata": {
        "colab": {
          "base_uri": "https://localhost:8080/"
        },
        "id": "e8TiLJYeq_xx",
        "outputId": "a7ad4725-e2d8-48ee-81c2-1392266bd87c"
      },
      "execution_count": 4,
      "outputs": [
        {
          "output_type": "stream",
          "name": "stdout",
          "text": [
            "First Citizen:\n",
            "Before we proceed any further, hear me speak.\n",
            "\n",
            "All:\n",
            "Speak, speak.\n",
            "\n",
            "First Citizen:\n",
            "You are all resolved rather to die than to famish?\n",
            "\n",
            "All:\n",
            "Resolved. resolved.\n",
            "\n",
            "First Citizen:\n",
            "First, you know Caius Marcius is chief enemy to the people.\n",
            "\n",
            "All:\n",
            "We know't, we know't.\n",
            "\n",
            "First Citizen:\n",
            "Let us\n"
          ]
        }
      ]
    },
    {
      "cell_type": "code",
      "source": [
        "vocab=sorted(list(set(text)))\n",
        "vocab_size=len(vocab)\n",
        "\n",
        "print(f\"vocab size:{vocab_size}\")\n",
        "print(f\"vocab :{vocab}\")"
      ],
      "metadata": {
        "colab": {
          "base_uri": "https://localhost:8080/"
        },
        "id": "-l-AX9whrcDi",
        "outputId": "c517159d-2a25-4dc0-889d-c0c96164c3dc"
      },
      "execution_count": 5,
      "outputs": [
        {
          "output_type": "stream",
          "name": "stdout",
          "text": [
            "vocab size:65\n",
            "vocab :['\\n', ' ', '!', '$', '&', \"'\", ',', '-', '.', '3', ':', ';', '?', 'A', 'B', 'C', 'D', 'E', 'F', 'G', 'H', 'I', 'J', 'K', 'L', 'M', 'N', 'O', 'P', 'Q', 'R', 'S', 'T', 'U', 'V', 'W', 'X', 'Y', 'Z', 'a', 'b', 'c', 'd', 'e', 'f', 'g', 'h', 'i', 'j', 'k', 'l', 'm', 'n', 'o', 'p', 'q', 'r', 's', 't', 'u', 'v', 'w', 'x', 'y', 'z']\n"
          ]
        }
      ]
    },
    {
      "cell_type": "code",
      "source": [
        "stoi={ch:i for i,ch in enumerate(vocab)}\n",
        "itos={i:ch for i,ch in enumerate(vocab)}\n",
        "\n",
        "def encode(s:str):\n",
        "  return [stoi[ch] for ch in s]\n",
        "\n",
        "def decode(l:list):\n",
        "  return \"\".join([itos[i] for i in l])\n",
        "\n",
        "print(encode(\"Hello,World\"))\n",
        "print(decode(encode(\"Hello,World\")))"
      ],
      "metadata": {
        "colab": {
          "base_uri": "https://localhost:8080/"
        },
        "id": "z6lPHdoNrCDf",
        "outputId": "0d6f7f15-326c-439a-db0b-7284c5631a81"
      },
      "execution_count": 6,
      "outputs": [
        {
          "output_type": "stream",
          "name": "stdout",
          "text": [
            "[20, 43, 50, 50, 53, 6, 35, 53, 56, 50, 42]\n",
            "Hello,World\n"
          ]
        }
      ]
    },
    {
      "cell_type": "code",
      "source": [
        "data=torch.tensor(encode(text),dtype=torch.long)\n",
        "\n",
        "train_pct=int(0.9*len(text))\n",
        "\n",
        "train_data=data[:train_pct]\n",
        "val_data=data[train_pct:]\n",
        "\n",
        "print(f\"train size:{train_data.shape}\")\n",
        "print(f\"validation size:{val_data.shape}\")"
      ],
      "metadata": {
        "colab": {
          "base_uri": "https://localhost:8080/"
        },
        "id": "dgDO2uJmsJMO",
        "outputId": "03553229-d558-4b59-8808-539d458dcaf7"
      },
      "execution_count": 7,
      "outputs": [
        {
          "output_type": "stream",
          "name": "stdout",
          "text": [
            "train size:torch.Size([1003854])\n",
            "validation size:torch.Size([111540])\n"
          ]
        }
      ]
    },
    {
      "cell_type": "code",
      "source": [
        "import torch.nn as nn"
      ],
      "metadata": {
        "id": "NWhsGya63vJh"
      },
      "execution_count": 8,
      "outputs": []
    },
    {
      "cell_type": "code",
      "source": [
        "class MLP(nn.Module):\n",
        "  def __init__(self,vocab_size,block_size,embedding_dim):\n",
        "    super().__init__()\n",
        "\n",
        "    self.vocab_size=vocab_size\n",
        "    self.embedding_dim=embedding_dim\n",
        "    self.block_size=block_size\n",
        "\n",
        "    self.model=nn.Sequential(\n",
        "        nn.Embedding(vocab_size,embedding_dim), # B,T,C\n",
        "        nn.Flatten(), # B,T*\n",
        "\n",
        "        nn.Linear(block_size*embedding_dim,64), # B,128\n",
        "        nn.ReLU(),\n",
        "        nn.BatchNorm1d(64),\n",
        "        nn.Dropout(0.3),\n",
        "\n",
        "        nn.Linear(64,128), # B,256\n",
        "        nn.ReLU(),\n",
        "        nn.BatchNorm1d(128),\n",
        "        nn.Dropout(0.3),\n",
        "\n",
        "        nn.Linear(128,256), # B,256\n",
        "        nn.ReLU(),\n",
        "        nn.BatchNorm1d(256),\n",
        "        nn.Dropout(0.3),\n",
        "\n",
        "        nn.Linear(256,256), # B,256\n",
        "        nn.ReLU(),\n",
        "        nn.BatchNorm1d(256),\n",
        "        nn.Dropout(0.3),\n",
        "\n",
        "        nn.Linear(256,vocab_size) # B,vocab_size\n",
        "    )\n",
        "\n",
        "  def forward(self,x,targets=None):\n",
        "    logits=self.model(x)\n",
        "    loss=None\n",
        "    if targets is not None:\n",
        "      loss=torch.nn.functional.cross_entropy(logits,targets)\n",
        "\n",
        "    return logits,loss"
      ],
      "metadata": {
        "id": "cbTmqn7QyfTH"
      },
      "execution_count": 200,
      "outputs": []
    },
    {
      "cell_type": "code",
      "source": [
        "batch_size=128\n",
        "block_size=32\n",
        "n_embedding=15"
      ],
      "metadata": {
        "id": "6J7VzZKk0m9w"
      },
      "execution_count": 201,
      "outputs": []
    },
    {
      "cell_type": "code",
      "source": [
        "model=MLP(vocab_size,block_size,n_embedding)\n",
        "\n",
        "model"
      ],
      "metadata": {
        "colab": {
          "base_uri": "https://localhost:8080/"
        },
        "id": "E_-phI_K0llf",
        "outputId": "40a5e2b5-fb7a-4e40-bb99-7e50bce000f7"
      },
      "execution_count": 202,
      "outputs": [
        {
          "output_type": "execute_result",
          "data": {
            "text/plain": [
              "MLP(\n",
              "  (model): Sequential(\n",
              "    (0): Embedding(65, 15)\n",
              "    (1): Flatten(start_dim=1, end_dim=-1)\n",
              "    (2): Linear(in_features=480, out_features=64, bias=True)\n",
              "    (3): ReLU()\n",
              "    (4): BatchNorm1d(64, eps=1e-05, momentum=0.1, affine=True, track_running_stats=True)\n",
              "    (5): Dropout(p=0.3, inplace=False)\n",
              "    (6): Linear(in_features=64, out_features=128, bias=True)\n",
              "    (7): ReLU()\n",
              "    (8): BatchNorm1d(128, eps=1e-05, momentum=0.1, affine=True, track_running_stats=True)\n",
              "    (9): Dropout(p=0.3, inplace=False)\n",
              "    (10): Linear(in_features=128, out_features=256, bias=True)\n",
              "    (11): ReLU()\n",
              "    (12): BatchNorm1d(256, eps=1e-05, momentum=0.1, affine=True, track_running_stats=True)\n",
              "    (13): Dropout(p=0.3, inplace=False)\n",
              "    (14): Linear(in_features=256, out_features=256, bias=True)\n",
              "    (15): ReLU()\n",
              "    (16): BatchNorm1d(256, eps=1e-05, momentum=0.1, affine=True, track_running_stats=True)\n",
              "    (17): Dropout(p=0.3, inplace=False)\n",
              "    (18): Linear(in_features=256, out_features=65, bias=True)\n",
              "  )\n",
              ")"
            ]
          },
          "metadata": {},
          "execution_count": 202
        }
      ]
    },
    {
      "cell_type": "code",
      "source": [
        "no_of_parameters=sum([p.numel() for p in model.model.parameters()])\n",
        "print(f\"No. of parameters:{no_of_parameters}\")"
      ],
      "metadata": {
        "colab": {
          "base_uri": "https://localhost:8080/"
        },
        "id": "ZSYP3YkV0w06",
        "outputId": "33a1b93b-e23f-4dd9-90a9-042be5dfe1c0"
      },
      "execution_count": 203,
      "outputs": [
        {
          "output_type": "stream",
          "name": "stdout",
          "text": [
            "No. of parameters:157008\n"
          ]
        }
      ]
    },
    {
      "cell_type": "code",
      "source": [
        "def get_batch(split: str):\n",
        "    data = train_data if split == \"train\" else val_data\n",
        "\n",
        "    x_batch = []\n",
        "    y_batch = []\n",
        "\n",
        "    start_idx = torch.randint(0, len(data) - batch_size - block_size, ())\n",
        "\n",
        "    for i in range(batch_size):\n",
        "        idx = start_idx + i\n",
        "\n",
        "        x = data[idx:idx + block_size]\n",
        "        y = data[idx + block_size]\n",
        "\n",
        "        x_batch.append(x)\n",
        "        y_batch.append(y)\n",
        "\n",
        "    x = torch.stack(x_batch)\n",
        "    y = torch.tensor(y_batch)  # Convert y_batch to tensor\n",
        "\n",
        "    return x, y\n",
        "\n"
      ],
      "metadata": {
        "id": "HXVem6NQ133y"
      },
      "execution_count": 204,
      "outputs": []
    },
    {
      "cell_type": "code",
      "source": [
        "x,y=get_batch(\"train\")"
      ],
      "metadata": {
        "id": "44MrRqa85ukY"
      },
      "execution_count": 205,
      "outputs": []
    },
    {
      "cell_type": "code",
      "source": [
        "x.shape,y.shape"
      ],
      "metadata": {
        "colab": {
          "base_uri": "https://localhost:8080/"
        },
        "id": "3bhorYMc5yfF",
        "outputId": "e4e319c1-70e6-468d-c3c1-64aceb39e25c"
      },
      "execution_count": 206,
      "outputs": [
        {
          "output_type": "execute_result",
          "data": {
            "text/plain": [
              "(torch.Size([128, 32]), torch.Size([128]))"
            ]
          },
          "metadata": {},
          "execution_count": 206
        }
      ]
    },
    {
      "cell_type": "code",
      "source": [
        "x[:5],y[:5]"
      ],
      "metadata": {
        "colab": {
          "base_uri": "https://localhost:8080/"
        },
        "id": "7p9i1yZ65z4q",
        "outputId": "12de4166-426d-49f0-ace7-ac9ec359c6e2"
      },
      "execution_count": 207,
      "outputs": [
        {
          "output_type": "execute_result",
          "data": {
            "text/plain": [
              "(tensor([[58, 46, 43,  1, 56, 46, 43, 59, 51,  6,  0, 18, 53, 56,  1, 43, 52, 42,\n",
              "          47, 52, 45,  1, 58, 46, 43, 43,  1, 52, 53,  1, 57, 53],\n",
              "         [46, 43,  1, 56, 46, 43, 59, 51,  6,  0, 18, 53, 56,  1, 43, 52, 42, 47,\n",
              "          52, 45,  1, 58, 46, 43, 43,  1, 52, 53,  1, 57, 53, 53],\n",
              "         [43,  1, 56, 46, 43, 59, 51,  6,  0, 18, 53, 56,  1, 43, 52, 42, 47, 52,\n",
              "          45,  1, 58, 46, 43, 43,  1, 52, 53,  1, 57, 53, 53, 52],\n",
              "         [ 1, 56, 46, 43, 59, 51,  6,  0, 18, 53, 56,  1, 43, 52, 42, 47, 52, 45,\n",
              "           1, 58, 46, 43, 43,  1, 52, 53,  1, 57, 53, 53, 52, 43],\n",
              "         [56, 46, 43, 59, 51,  6,  0, 18, 53, 56,  1, 43, 52, 42, 47, 52, 45,  1,\n",
              "          58, 46, 43, 43,  1, 52, 53,  1, 57, 53, 53, 52, 43, 56]]),\n",
              " tensor([53, 52, 43, 56,  8]))"
            ]
          },
          "metadata": {},
          "execution_count": 207
        }
      ]
    },
    {
      "cell_type": "code",
      "source": [
        "logits,loss=model(x)\n",
        "\n",
        "logits.shape"
      ],
      "metadata": {
        "id": "ZmbfKnJjDh_7",
        "colab": {
          "base_uri": "https://localhost:8080/"
        },
        "outputId": "cd8d00b5-ecc9-4d4d-b3ad-1ca6295faca9"
      },
      "execution_count": 208,
      "outputs": [
        {
          "output_type": "execute_result",
          "data": {
            "text/plain": [
              "torch.Size([128, 65])"
            ]
          },
          "metadata": {},
          "execution_count": 208
        }
      ]
    },
    {
      "cell_type": "code",
      "source": [
        "device=torch.device('cuda' if torch.cuda.is_available() else 'cpu')\n",
        "\n",
        "device"
      ],
      "metadata": {
        "colab": {
          "base_uri": "https://localhost:8080/"
        },
        "id": "F3cuGR-10oMf",
        "outputId": "2879467e-79ce-4a97-9aec-b808c375021a"
      },
      "execution_count": 209,
      "outputs": [
        {
          "output_type": "execute_result",
          "data": {
            "text/plain": [
              "device(type='cuda')"
            ]
          },
          "metadata": {},
          "execution_count": 209
        }
      ]
    },
    {
      "cell_type": "code",
      "source": [
        "model.to(device)"
      ],
      "metadata": {
        "colab": {
          "base_uri": "https://localhost:8080/"
        },
        "id": "iGkMDK1YJoyo",
        "outputId": "8f9fdd6f-793d-4496-8544-253468535992"
      },
      "execution_count": 213,
      "outputs": [
        {
          "output_type": "execute_result",
          "data": {
            "text/plain": [
              "MLP(\n",
              "  (model): Sequential(\n",
              "    (0): Embedding(65, 15)\n",
              "    (1): Flatten(start_dim=1, end_dim=-1)\n",
              "    (2): Linear(in_features=480, out_features=64, bias=True)\n",
              "    (3): ReLU()\n",
              "    (4): BatchNorm1d(64, eps=1e-05, momentum=0.1, affine=True, track_running_stats=True)\n",
              "    (5): Dropout(p=0.3, inplace=False)\n",
              "    (6): Linear(in_features=64, out_features=128, bias=True)\n",
              "    (7): ReLU()\n",
              "    (8): BatchNorm1d(128, eps=1e-05, momentum=0.1, affine=True, track_running_stats=True)\n",
              "    (9): Dropout(p=0.3, inplace=False)\n",
              "    (10): Linear(in_features=128, out_features=256, bias=True)\n",
              "    (11): ReLU()\n",
              "    (12): BatchNorm1d(256, eps=1e-05, momentum=0.1, affine=True, track_running_stats=True)\n",
              "    (13): Dropout(p=0.3, inplace=False)\n",
              "    (14): Linear(in_features=256, out_features=256, bias=True)\n",
              "    (15): ReLU()\n",
              "    (16): BatchNorm1d(256, eps=1e-05, momentum=0.1, affine=True, track_running_stats=True)\n",
              "    (17): Dropout(p=0.3, inplace=False)\n",
              "    (18): Linear(in_features=256, out_features=65, bias=True)\n",
              "  )\n",
              ")"
            ]
          },
          "metadata": {},
          "execution_count": 213
        }
      ]
    },
    {
      "cell_type": "code",
      "source": [
        "import torch.optim as optim\n",
        "from torch.optim.lr_scheduler import OneCycleLR\n",
        "\n",
        "# Assuming `model` and `opt` are defined somewhere\n",
        "opt = optim.Adam(model.parameters(), lr=4e-4)"
      ],
      "metadata": {
        "id": "tNERbqXf_DMH"
      },
      "execution_count": 214,
      "outputs": []
    },
    {
      "cell_type": "code",
      "source": [
        "@ torch.no_grad()\n",
        "def generate(n_chars=500):\n",
        "  si=torch.randint(len(train_data)-block_size-1,())\n",
        "  ix=train_data[si:si+block_size].unsqueeze(0).to(device)\n",
        "  chars=[]\n",
        "  model.eval()\n",
        "\n",
        "  for i in range(n_chars):\n",
        "    logits,_=model(ix)\n",
        "    probs=torch.softmax(logits,-1)\n",
        "    i=torch.multinomial(probs,num_samples=1)[0]\n",
        "    ix=torch.cat([ix[0,1:],i]).unsqueeze(0)\n",
        "    chars.append(itos[i.item()])\n",
        "\n",
        "  model.train()\n",
        "  return \"\".join(chars)"
      ],
      "metadata": {
        "id": "coZCgBxEJYy5"
      },
      "execution_count": 215,
      "outputs": []
    },
    {
      "cell_type": "code",
      "source": [
        "# without training\n",
        "print(generate(500))"
      ],
      "metadata": {
        "colab": {
          "base_uri": "https://localhost:8080/"
        },
        "id": "gRUhYyWcJaC2",
        "outputId": "f1f5645e-2aeb-46be-b534-2bc0eb422875"
      },
      "execution_count": 217,
      "outputs": [
        {
          "output_type": "stream",
          "name": "stdout",
          "text": [
            "XtD,Z;:qladtnrGXde.;oZ3PLpzmK UkOGInz!OXzW?zvCFNtN\n",
            "D3:XoWOsFxHdjXGzLdF'DWbZxBv\n",
            "xOV.bxq:B-nbWpMwXti\n",
            "QP'ZC?QF3!A?M;rMLvnUbTcC$jN'jiTpuJG3AngZ,rwHKW \n",
            "d\n",
            "HkLctp.wT?m\n",
            "e!faEiJjDMmgUmyZJzYx!Xaoie& Bi'DfJjxDBKzWjGXQXjnAHMgXOEipOzJJ YGZhZkYRYLqr&.XfH3,Vz-IfkbQaoFJn'GlReq!FLXHo'zqi,?SJjlcE.kegaKVXa&bl3jOV&\n",
            "T:bBWyy$\n",
            "Z-zWTObQAfcVO\n",
            "twUkZLrTFNKhuOcIt-VJjhZlSGqf-x-?CDPz&Vlgdo!lNsPBxonxg-f,k:ClaYuaSql UPHgd.dfs!hw!&;N3PSOzJ?xUNboCLceZezk$WDVOj.AZeUPbtxElgJty QNi?vqWWkHs$LE:c,T3,nZWZbTM3nq TPcyxKO&TDZChhf&;OwWjtl\n"
          ]
        }
      ]
    },
    {
      "cell_type": "code",
      "source": [
        "def fit(model,epochs):\n",
        "  # Calculate total number of steps (equivalent to epochs)\n",
        "  total_steps = epochs * (len(train_data) // batch_size)\n",
        "  # Define One Cycle LR scheduler\n",
        "  scheduler = OneCycleLR(opt, max_lr=3e-3, total_steps=total_steps)\n",
        "\n",
        "\n",
        "  history={\"loss\":[],\"val_loss\":[]}\n",
        "  k=1000\n",
        "\n",
        "  for epoch in range(epochs):\n",
        "    model.train()\n",
        "    x,y=get_batch(\"train\")\n",
        "    x,y=x.to(device),y.to(device)\n",
        "    _,train_loss=model(x,y)\n",
        "\n",
        "\n",
        "    opt.zero_grad()\n",
        "\n",
        "    # Backward pass:\n",
        "    train_loss.backward()\n",
        "\n",
        "    # update paramaters\n",
        "    opt.step()\n",
        "    scheduler.step()\n",
        "\n",
        "     # put model in evaluation phase\n",
        "    model.eval()\n",
        "    with torch.no_grad():\n",
        "      x,y=get_batch(\"val\")\n",
        "      x,y=x.to(device),y.to(device)\n",
        "      _,val_loss=model(x,y)\n",
        "\n",
        "\n",
        "    if((epoch+1)%500==0):\n",
        "      print(f\"Train-loss:{train_loss:.4f}, Validation-loss:{val_loss:.4f}\")\n",
        "\n",
        "\n",
        "    history[\"loss\"].append(train_loss.item())\n",
        "    history[\"val_loss\"].append(val_loss.item())\n",
        "\n",
        "  return history"
      ],
      "metadata": {
        "id": "Kj5X9Epm96Uy"
      },
      "execution_count": 218,
      "outputs": []
    },
    {
      "cell_type": "code",
      "source": [
        "history=fit(model,7_000)"
      ],
      "metadata": {
        "colab": {
          "base_uri": "https://localhost:8080/"
        },
        "id": "vxogH4Sx_22K",
        "outputId": "514dec1a-5bff-468a-d1ba-5293ae900ca5"
      },
      "execution_count": 219,
      "outputs": [
        {
          "output_type": "stream",
          "name": "stdout",
          "text": [
            "Train-loss:4.0396, Validation-loss:3.8805\n",
            "Train-loss:3.4051, Validation-loss:3.4291\n",
            "Train-loss:3.1992, Validation-loss:3.2572\n",
            "Train-loss:2.8159, Validation-loss:3.0999\n",
            "Train-loss:3.0265, Validation-loss:2.7683\n",
            "Train-loss:2.8026, Validation-loss:2.6553\n",
            "Train-loss:2.7649, Validation-loss:2.6381\n",
            "Train-loss:2.7104, Validation-loss:2.5773\n",
            "Train-loss:2.5850, Validation-loss:2.5228\n",
            "Train-loss:2.4889, Validation-loss:2.7113\n",
            "Train-loss:2.7016, Validation-loss:2.5112\n",
            "Train-loss:2.6768, Validation-loss:2.3704\n",
            "Train-loss:2.4864, Validation-loss:2.2594\n",
            "Train-loss:2.6830, Validation-loss:2.1949\n"
          ]
        }
      ]
    },
    {
      "cell_type": "code",
      "source": [
        "train_loss,val_loss=torch.tensor(history[\"loss\"]),torch.tensor(history[\"val_loss\"])\n",
        "\n",
        "train_loss,val_loss=train_loss.view((200,-1)),val_loss.view((200,-1))\n",
        "\n",
        "train_loss,val_loss=train_loss.mean(-1),val_loss.mean(-1)\n",
        "\n",
        "plt.plot(train_loss,'b-',label=\"train-loss\")\n",
        "plt.plot(val_loss,'r-',label=\"val-loss\")\n",
        "plt.legend()"
      ],
      "metadata": {
        "colab": {
          "base_uri": "https://localhost:8080/",
          "height": 448
        },
        "id": "gBrq94NwC1Rg",
        "outputId": "5bfb13b5-9501-4ae2-8188-639f99da1310"
      },
      "execution_count": 220,
      "outputs": [
        {
          "output_type": "execute_result",
          "data": {
            "text/plain": [
              "<matplotlib.legend.Legend at 0x7ddba8f52c80>"
            ]
          },
          "metadata": {},
          "execution_count": 220
        },
        {
          "output_type": "display_data",
          "data": {
            "text/plain": [
              "<Figure size 640x480 with 1 Axes>"
            ],
            "image/png": "[encoded data removed]"
          },
          "metadata": {}
        }
      ]
    },
    {
      "cell_type": "code",
      "source": [
        "history=fit(model,5_000)"
      ],
      "metadata": {
        "colab": {
          "base_uri": "https://localhost:8080/"
        },
        "id": "VtTySHl3KGW1",
        "outputId": "7f30b448-e62e-4342-c4b4-37faea545c22"
      },
      "execution_count": 222,
      "outputs": [
        {
          "output_type": "stream",
          "name": "stdout",
          "text": [
            "Train-loss:2.4771, Validation-loss:2.4156\n",
            "Train-loss:2.2992, Validation-loss:2.2340\n",
            "Train-loss:2.6414, Validation-loss:2.1463\n",
            "Train-loss:2.2637, Validation-loss:2.2054\n",
            "Train-loss:2.5683, Validation-loss:2.2565\n",
            "Train-loss:2.7962, Validation-loss:2.1474\n",
            "Train-loss:2.4462, Validation-loss:2.1775\n",
            "Train-loss:2.3019, Validation-loss:2.1769\n",
            "Train-loss:2.5777, Validation-loss:2.0071\n",
            "Train-loss:2.1358, Validation-loss:2.4081\n"
          ]
        }
      ]
    },
    {
      "cell_type": "code",
      "source": [
        "train_loss,val_loss=torch.tensor(history[\"loss\"]),torch.tensor(history[\"val_loss\"])\n",
        "\n",
        "train_loss,val_loss=train_loss.view((200,-1)),val_loss.view((200,-1))\n",
        "\n",
        "train_loss,val_loss=train_loss.mean(-1),val_loss.mean(-1)\n",
        "\n",
        "plt.plot(train_loss,'b-',label=\"train-loss\")\n",
        "plt.plot(val_loss,'r-',label=\"val-loss\")\n",
        "plt.legend()"
      ],
      "metadata": {
        "colab": {
          "base_uri": "https://localhost:8080/",
          "height": 452
        },
        "id": "eVaqC5S3KJYY",
        "outputId": "73854f1b-2277-436c-bb84-c2da4d61841a"
      },
      "execution_count": 223,
      "outputs": [
        {
          "output_type": "execute_result",
          "data": {
            "text/plain": [
              "<matplotlib.legend.Legend at 0x7ddba9049de0>"
            ]
          },
          "metadata": {},
          "execution_count": 223
        },
        {
          "output_type": "display_data",
          "data": {
            "text/plain": [
              "<Figure size 640x480 with 1 Axes>"
            ],
            "image/png": "[encoded data removed]"
          },
          "metadata": {}
        }
      ]
    },
    {
      "cell_type": "code",
      "source": [
        "# After Training\n",
        "print(generate(1000))"
      ],
      "metadata": {
        "id": "v2bXpGRrClZv",
        "colab": {
          "base_uri": "https://localhost:8080/"
        },
        "outputId": "1a328d9c-0906-4107-a3c3-cbe6d69e70a7"
      },
      "execution_count": 224,
      "outputs": [
        {
          "output_type": "stream",
          "name": "stdout",
          "text": [
            " sprst fle belk ef you\n",
            "Oon soun thure wangh wigh;\n",
            "\n",
            "LCSNOD\n",
            "Bed:\n",
            "\n",
            "AORUN:\n",
            "ShD, Mo ill, amtelate court that and row\n",
            "Whilt mestedse hit whermonde thame dows\n",
            "Wheald\n",
            "Herer fufAES:\n",
            "Orie.\n",
            "anouod to dencr withe watwosill now girbuxce toot of of\n",
            "The hered is I angild.\n",
            "\n",
            "KICKOAZIEISUSIET:\n",
            "An sad: nostengss tonds no no pull bus thabs.\n",
            "\n",
            "Whall a cher a lay, the rase.\n",
            "\n",
            "SFCOCRUBANY:\n",
            "The anvd et ther her cipilcZifre nous le noth\n",
            "Go Plt;.\n",
            " pEN:\n",
            "Yrige, me, my gom oech and donds\n",
            "Hhe I cuychy rony!rromes theut a dotk, yoth ofor owoth in and Selerf\n",
            "Wheven lore brorte whouveldels sen:\n",
            "Nat, alime thit be with yoou, bling's crantond the e, son kot ay har is sings savend.\n",
            "\n",
            "mORINNFE:\n",
            "Dill oow sor thy of lyt ir ius dary medy of thy gand that\n",
            "srouest thens hee pem.\n",
            "\n",
            "GUDOICHENIARO:\n",
            "Iull lep popinop, whoth oflard your thee hent ber, fwo to tiall hist sederee;\n",
            "And by prid, incacgom!ather withd yo niss yte envat mo whr\n",
            "I bn'd Iny my dor tors do 'ns.\n",
            "\n",
            "HENGD\n",
            "NIOOCCEOIO:\n",
            "Bnd;, hey taie here seou ther the his rousk thorern'\n"
          ]
        }
      ]
    }
  ]
}